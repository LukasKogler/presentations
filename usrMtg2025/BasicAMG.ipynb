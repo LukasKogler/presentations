{
 "cells": [
  {
   "cell_type": "code",
   "execution_count": null,
   "id": "38607001-ad4c-4603-9311-322b0eb717ad",
   "metadata": {},
   "outputs": [],
   "source": [
    "from ngsolve import *\n",
    "from ngsolve.webgui import Draw\n",
    "import ngsolve as ngs\n",
    "import NgsAMG as amg"
   ]
  },
  {
   "cell_type": "markdown",
   "id": "544684a1-a775-4fca-95ad-5afa2fddbd2f",
   "metadata": {},
   "source": [
    "### H1\n",
    "\n",
    "It works, I guess."
   ]
  },
  {
   "cell_type": "code",
   "execution_count": null,
   "id": "4602ccf2-6e10-49e5-9d71-6aa250875b27",
   "metadata": {},
   "outputs": [],
   "source": [
    "from usrMtgStuff import setupH1Square, testAndSolve\n",
    "\n",
    "V, a, f, u = setupH1Square(maxh=0.01, nref=0)\n",
    "\n",
    "c = Preconditioner(a, \"NgsAMG.h1_scal\", ngs_amg_crs_alg=\"spw\")\n",
    "a.Assemble()\n",
    "f.Assemble()\n",
    "\n",
    "testAndSolve(a.mat, c, u, f.vec)"
   ]
  },
  {
   "cell_type": "code",
   "execution_count": null,
   "id": "4bebe0e4-5cab-409f-a7a4-6799ac364e69",
   "metadata": {},
   "outputs": [],
   "source": [
    "Draw(u);"
   ]
  },
  {
   "cell_type": "markdown",
   "id": "827e99e1-1db8-4e91-a844-140d568d6df2",
   "metadata": {},
   "source": [
    "### Elasticity"
   ]
  },
  {
   "cell_type": "code",
   "execution_count": null,
   "id": "82203999-7c0a-4161-8fc0-0e509a14c853",
   "metadata": {},
   "outputs": [],
   "source": [
    "from usrMtgStuff import setupElastBeam, testAndSolve\n",
    "\n",
    "V, a, f, u = setupElastBeam(N=10, dim=3)\n",
    "\n",
    "c = Preconditioner(a, f\"NgsAMG.elast_{V.mesh.dim}d\", ngs_amg_crs_alg=\"mis\")\n",
    "a.Assemble()\n",
    "f.Assemble()\n",
    "\n",
    "testAndSolve(a.mat, c, u, f.vec)"
   ]
  },
  {
   "cell_type": "code",
   "execution_count": null,
   "id": "43e425d0-f6f8-45eb-8d8f-c64af7ee72da",
   "metadata": {},
   "outputs": [],
   "source": [
    "Draw(u, deformation=True)"
   ]
  },
  {
   "cell_type": "markdown",
   "id": "0934dae9-2082-4361-9c2a-ef0e2c14486e",
   "metadata": {},
   "source": [
    "No silver bullet - similar limitations as PETSc, BoomerAMG, etc"
   ]
  },
  {
   "cell_type": "code",
   "execution_count": null,
   "id": "0c49dd55-37ea-491a-a91a-68ca53211aa9",
   "metadata": {},
   "outputs": [],
   "source": [
    "from usrMtgStuff import setupElastBeam, testAndSolve\n",
    "\n",
    "V, a, f, u = setupElastBeam(N=10, aRatio=1000, dim=2)\n",
    "\n",
    "c = Preconditioner(a, f\"NgsAMG.elast_{V.mesh.dim}d\", ngs_amg_crs_alg=\"spw\", ngs_amg_sm_type=\"bgs\", ngs_amg_sp_improve_its=2, ngs_amg_sp_omega=0.8)\n",
    "# c = Preconditioner(a, f\"NgsAMG.elast_{V.mesh.dim}d\", ngs_amg_crs_alg=\"mis\", ngs_amg_on_dofs=\"select\", ngs_amg_subset= \"nodalp2\", ngs_amg_sm_type=\"bgs\")\n",
    "# c = Preconditioner(a, f\"NgsAMG.elast_{V.mesh.dim}d\", ngs_amg_crs_alg=\"mis\", ngs_amg_lo = False, ngs_amg_dof_ordering=\"p2Emb\", ngs_amg_smooth_after_emb=False, ngs_amg_sp_improve_its=0, ngs_amg_sm_type=\"bgs\")\n",
    "\n",
    "a.Assemble()\n",
    "f.Assemble()\n",
    "\n",
    "testAndSolve(a.mat, c, u, f.vec)"
   ]
  },
  {
   "cell_type": "raw",
   "id": "e7ff5dc0-bfef-43d2-b65e-aa51a3eafb3a",
   "metadata": {},
   "source": []
  },
  {
   "cell_type": "code",
   "execution_count": null,
   "id": "42568ca7-7b8c-4a1b-bd58-2f7ec953d51a",
   "metadata": {},
   "outputs": [],
   "source": [
    "from usrMtgStuff import setupElastBeam, testAndSolve\n",
    "\n",
    "V, a, f, u = setupElastBeam(N=10, elStretch=5, dim=3, order=2, nodalP2=True)\n",
    "\n",
    "# c = Preconditioner(a, f\"NgsAMG.elast_{V.mesh.dim}d\", ngs_amg_crs_alg=\"mis\")\n",
    "# c = Preconditioner(a, f\"NgsAMG.elast_{V.mesh.dim}d\", ngs_amg_crs_alg=\"mis\", ngs_amg_on_dofs=\"select\", ngs_amg_subset= \"nodalp2\", ngs_amg_sm_type=\"bgs\")\n",
    "c = Preconditioner(a, f\"NgsAMG.elast_{V.mesh.dim}d\", ngs_amg_crs_alg=\"mis\", ngs_amg_lo = False, ngs_amg_dof_ordering=\"p2Emb\", ngs_amg_smooth_after_emb=False, ngs_amg_sp_improve_its=0, ngs_amg_sm_type=\"bgs\")\n",
    "\n",
    "a.Assemble()\n",
    "f.Assemble()\n",
    "\n",
    "testAndSolve(a.mat, c, u.vec, f.vec)\n",
    "\n",
    "print(f\"\\n\\n\\ty-defo = {u(1.0,0.0)[1]} !\")"
   ]
  }
 ],
 "metadata": {
  "kernelspec": {
   "display_name": "Python 3 (ipykernel)",
   "language": "python",
   "name": "python3"
  },
  "language_info": {
   "codemirror_mode": {
    "name": "ipython",
    "version": 3
   },
   "file_extension": ".py",
   "mimetype": "text/x-python",
   "name": "python",
   "nbconvert_exporter": "python",
   "pygments_lexer": "ipython3",
   "version": "3.8.10"
  }
 },
 "nbformat": 4,
 "nbformat_minor": 5
}
