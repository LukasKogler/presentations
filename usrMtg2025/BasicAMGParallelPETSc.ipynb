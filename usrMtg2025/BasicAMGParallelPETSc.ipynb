{
 "cells": [
  {
   "cell_type": "code",
   "execution_count": 1,
   "id": "80ebddef-c496-4eb4-94db-6569e153a7ff",
   "metadata": {},
   "outputs": [
    {
     "name": "stdout",
     "output_type": "stream",
     "text": [
      "Starting 4 engines with <class 'ipyparallel.cluster.launcher.MPIEngineSetLauncher'>\n"
     ]
    },
    {
     "data": {
      "application/vnd.jupyter.widget-view+json": {
       "model_id": "eab7c2a5a9dc4d0696f347c8e82136e4",
       "version_major": 2,
       "version_minor": 0
      },
      "text/plain": [
       "  0%|          | 0/4 [00:00<?, ?engine/s]"
      ]
     },
     "metadata": {},
     "output_type": "display_data"
    },
    {
     "data": {
      "text/plain": [
       "[0, 1, 2, 3]"
      ]
     },
     "execution_count": 1,
     "metadata": {},
     "output_type": "execute_result"
    }
   ],
   "source": [
    "import ipyparallel as ipp\n",
    "\n",
    "from ipyparallel import Cluster\n",
    "c = await Cluster(engines=\"mpi\", profile=\"myprofile\").start_and_connect(n=4, activate=True)\n",
    "c.ids"
   ]
  },
  {
   "cell_type": "code",
   "execution_count": 3,
   "id": "38607001-ad4c-4603-9311-322b0eb717ad",
   "metadata": {},
   "outputs": [],
   "source": [
    "%%px\n",
    "from ngsolve import *\n",
    "from ngsolve.webgui import Draw\n",
    "import ngsolve as ngs\n",
    "import NgsAMG as amg\n",
    "import matplotlib.pyplot as plt"
   ]
  },
  {
   "cell_type": "markdown",
   "id": "544684a1-a775-4fca-95ad-5afa2fddbd2f",
   "metadata": {},
   "source": [
    "### H1\n",
    "\n",
    "It works, I guess."
   ]
  },
  {
   "cell_type": "code",
   "execution_count": 4,
   "id": "4602ccf2-6e10-49e5-9d71-6aa250875b27",
   "metadata": {},
   "outputs": [
    {
     "data": {
      "text/plain": [
       "[stdout:0] Set up AMG-levels...\n",
       " map maps 46749 -> 7892, fac 0.168816\n",
       " map maps 7892 -> 1263, fac 0.160035\n",
       " map maps 1263 -> 202, fac 0.159937\n",
       " map maps 202 -> 35, fac 0.173267\n",
       "Done setting up AMG-levels!\n",
       "\n",
       " ---------- AMG Summary ---------- \n",
       "Vertex complexity: 1.2009\n",
       "Operator complexity: 1.47323\n",
       "Vertex complexity components: 1 0.168816 0.0270166 0.00432095 0.000748679 \n",
       "Operator complexity components: 1 0.363089 0.0944382 0.0137644 0.00194317 \n",
       "# vertices 46749 7892 1263 202 35 \n",
       "# edges: 139444 23454 3660 558 87 \n",
       "# procs: 4 2 2 2 2 \n",
       "NZEs:326785 118652 30861 4498 635 \n",
       " ---------- AMG Summary End ---------- \n",
       "\n",
       "Preconditioner test:\n",
       "   min EV = 0.3304577170729749\n",
       "   max EV = 0.9958542003503625\n",
       "   condition = 3.0135601285729647\n",
       "\n",
       "\n",
       "Solve...\n",
       "\u001b[2KCG iteration 1, residual = 0.11989646569361262     \n",
       "\u001b[2KCG iteration 2, residual = 0.03823129236294249     \n",
       "\u001b[2KCG iteration 3, residual = 0.01069081081004832     \n",
       "\u001b[2KCG iteration 4, residual = 0.003088792157736213     \n",
       "\u001b[2KCG iteration 5, residual = 0.0008112612468581138     \n",
       "\u001b[2KCG iteration 6, residual = 0.00020985382422913798     \n",
       "\u001b[2KCG iteration 7, residual = 5.672036195103763e-05     \n",
       "\u001b[2KCG iteration 8, residual = 1.5348739366333436e-05     \n",
       "\u001b[2KCG iteration 9, residual = 4.29172514498939e-06     \n",
       "\u001b[2KCG iteration 10, residual = 1.208050181007175e-06     \n",
       "\u001b[2KCG iteration 11, residual = 3.114758977904411e-07     \n",
       "\u001b[2KCG iteration 12, residual = 7.87771230511138e-08     \n",
       "\n",
       "time AMG setup = 0.08837168975572308 sec\n",
       "    set up  133337.38477301097 DOFS/(sec n* NP)\n",
       "time solve = 0.012519059574683663 sec\n",
       "    solved  941224.85237057 DOFS/(sec * NP)\n"
      ]
     },
     "metadata": {},
     "output_type": "display_data"
    }
   ],
   "source": [
    "%%px\n",
    "from usrMtgStuffPar import setupH1Square, testAndSolve\n",
    "from usrMtgPetscStuff import *\n",
    "\n",
    "V, a, f, u = setupH1Square(maxh=0.01, nref=1)\n",
    "\n",
    "c = Preconditioner(a, \"NgsAMG.h1_scal\", ngs_amg_crs_alg=\"spw\")\n",
    "\n",
    "a.Assemble()\n",
    "f.Assemble()\n",
    "\n",
    "testAndSolve(a.mat, c, u.vec, f.vec)\n",
    "\n",
    "if MPI.COMM_WORLD.size == 1:\n",
    "    ngsolve.webgui.Draw(u)"
   ]
  },
  {
   "cell_type": "code",
   "execution_count": 5,
   "id": "99da1a34-a25f-4b6f-900a-5a618e48a791",
   "metadata": {},
   "outputs": [
    {
     "data": {
      "text/plain": [
       "[stdout:0] PETSc GAMG setup = 0.09625878231874298\n",
       "Preconditioner test:\n",
       "   min EV = 0.5123866203770109\n",
       "   max EV = 0.9960238544756814\n",
       "   condition = 1.9438912236678103\n",
       "\n",
       "\n",
       "Solve...\n",
       "\u001b[2KCG iteration 1, residual = 0.1464875706519976     \n",
       "\u001b[2KCG iteration 2, residual = 0.032316523334203553     \n",
       "\u001b[2KCG iteration 3, residual = 0.004329330265308112     \n",
       "\u001b[2KCG iteration 4, residual = 0.0007044896937679406     \n",
       "\u001b[2KCG iteration 5, residual = 0.00012085169197880484     \n",
       "\u001b[2KCG iteration 6, residual = 2.14069684020581e-05     \n",
       "\u001b[2KCG iteration 7, residual = 3.7866568797665166e-06     \n",
       "\u001b[2KCG iteration 8, residual = 6.026528109669547e-07     \n",
       "\u001b[2KCG iteration 9, residual = 9.879892747688988e-08     \n",
       "\n",
       "time AMG setup = 0.08837168975572308 sec\n",
       "    set up  133337.38477301097 DOFS/(sec n* NP)\n",
       "time solve = 0.009864182640259697 sec\n",
       "    solved  1194549.0498024456 DOFS/(sec * NP)\n"
      ]
     },
     "metadata": {},
     "output_type": "display_data"
    },
    {
     "data": {
      "text/plain": [
       "\u001b[0;31mOut[1:4]: \u001b[0m1.9438912236678103"
      ]
     },
     "metadata": {
      "after": null,
      "completed": null,
      "data": {},
      "engine_id": 1,
      "engine_uuid": "b7c55bf9-cf078e1a77e9bf6259cbd92e",
      "error": null,
      "execute_input": "\ncp = petscGAMGH1Precond(a)\n\ntestAndSolve(a.mat, cp, u.vec, f.vec)\n",
      "execute_result": {
       "data": {
        "text/plain": "1.9438912236678103"
       },
       "execution_count": 4,
       "metadata": {}
      },
      "follow": null,
      "msg_id": null,
      "outputs": [],
      "received": null,
      "started": null,
      "status": null,
      "stderr": "",
      "stdout": "",
      "submitted": "2025-06-11T04:24:22.853507Z"
     },
     "output_type": "display_data"
    },
    {
     "data": {
      "text/plain": [
       "\u001b[0;31mOut[3:4]: \u001b[0m1.9438912236678103"
      ]
     },
     "metadata": {
      "after": null,
      "completed": null,
      "data": {},
      "engine_id": 3,
      "engine_uuid": "5a31da03-10782f3d85ccd28737329596",
      "error": null,
      "execute_input": "\ncp = petscGAMGH1Precond(a)\n\ntestAndSolve(a.mat, cp, u.vec, f.vec)\n",
      "execute_result": {
       "data": {
        "text/plain": "1.9438912236678103"
       },
       "execution_count": 4,
       "metadata": {}
      },
      "follow": null,
      "msg_id": null,
      "outputs": [],
      "received": null,
      "started": null,
      "status": null,
      "stderr": "",
      "stdout": "",
      "submitted": "2025-06-11T04:24:22.853589Z"
     },
     "output_type": "display_data"
    },
    {
     "data": {
      "text/plain": [
       "\u001b[0;31mOut[0:4]: \u001b[0m1.9438912236678103"
      ]
     },
     "metadata": {
      "after": null,
      "completed": null,
      "data": {},
      "engine_id": 0,
      "engine_uuid": "b21bd454-6293cf31610d1656a4a1c59e",
      "error": null,
      "execute_input": "\ncp = petscGAMGH1Precond(a)\n\ntestAndSolve(a.mat, cp, u.vec, f.vec)\n",
      "execute_result": {
       "data": {
        "text/plain": "1.9438912236678103"
       },
       "execution_count": 4,
       "metadata": {}
      },
      "follow": null,
      "msg_id": null,
      "outputs": [],
      "received": null,
      "started": null,
      "status": null,
      "stderr": "",
      "stdout": "PETSc GAMG setup = 0.09625878231874298\nPreconditioner test:\n   min EV = 0.5123866203770109\n   max EV = 0.9960238544756814\n   condition = 1.9438912236678103\n\n\nSolve...\n\u001b[2KCG iteration 1, residual = 0.1464875706519976     \n\u001b[2KCG iteration 2, residual = 0.032316523334203553     \n\u001b[2KCG iteration 3, residual = 0.004329330265308112     \n\u001b[2KCG iteration 4, residual = 0.0007044896937679406     \n\u001b[2KCG iteration 5, residual = 0.00012085169197880484     \n\u001b[2KCG iteration 6, residual = 2.14069684020581e-05     \n\u001b[2KCG iteration 7, residual = 3.7866568797665166e-06     \n\u001b[2KCG iteration 8, residual = 6.026528109669547e-07     \n\u001b[2KCG iteration 9, residual = 9.879892747688988e-08     \n\ntime AMG setup = 0.08837168975572308 sec\n    set up  133337.38477301097 DOFS/(sec n* NP)\ntime solve = 0.009864182640259697 sec\n    solved  1194549.0498024456 DOFS/(sec * NP)\n",
      "submitted": "2025-06-11T04:24:22.853452Z"
     },
     "output_type": "display_data"
    },
    {
     "data": {
      "text/plain": [
       "\u001b[0;31mOut[2:4]: \u001b[0m1.9438912236678103"
      ]
     },
     "metadata": {
      "after": null,
      "completed": null,
      "data": {},
      "engine_id": 2,
      "engine_uuid": "222ea0f4-ee5db2f8ec376b432fe7e4f1",
      "error": null,
      "execute_input": "\ncp = petscGAMGH1Precond(a)\n\ntestAndSolve(a.mat, cp, u.vec, f.vec)\n",
      "execute_result": {
       "data": {
        "text/plain": "1.9438912236678103"
       },
       "execution_count": 4,
       "metadata": {}
      },
      "follow": null,
      "msg_id": null,
      "outputs": [],
      "received": null,
      "started": null,
      "status": null,
      "stderr": "",
      "stdout": "",
      "submitted": "2025-06-11T04:24:22.853545Z"
     },
     "output_type": "display_data"
    }
   ],
   "source": [
    "%%px\n",
    "\n",
    "cp = petscGAMGH1Precond(a)\n",
    "\n",
    "testAndSolve(a.mat, cp, u.vec, f.vec)"
   ]
  },
  {
   "cell_type": "markdown",
   "id": "827e99e1-1db8-4e91-a844-140d568d6df2",
   "metadata": {},
   "source": [
    "### Elasticity"
   ]
  },
  {
   "cell_type": "code",
   "execution_count": 6,
   "id": "76cf8f2e-acd5-4d07-8480-d9a86ac85c5c",
   "metadata": {},
   "outputs": [
    {
     "data": {
      "text/plain": [
       "[stdout:0] Set up AMG-levels...\n",
       " map maps 12221 -> 843, fac 0.0689796\n",
       " map maps 843 -> 68, fac 0.0806643\n",
       " map maps 68 -> 6, fac 0.0882353\n",
       "Done setting up AMG-levels!\n",
       "\n",
       " ---------- AMG Summary ---------- \n",
       "Vertex complexity: 1.07503\n",
       "Operator complexity: 1.59289\n",
       "Vertex complexity components: 1 0.0689796 0.00556419 0.000490958 \n",
       "Operator complexity components: 1 0.562303 0.0298615 0.000720133 \n",
       "# vertices 12221 843 68 6 \n",
       "# edges: 76420 4692 251 5 \n",
       "# procs: 4 2 2 2 \n",
       "NZEs:166636 23425 1244 30 \n",
       " ---------- AMG Summary End ---------- \n",
       "\n",
       "Preconditioner test:\n",
       "   min EV = 0.1497012366634115\n",
       "   max EV = 0.9980309583753255\n",
       "   condition = 6.666818395223413\n",
       "\n",
       "\n",
       "Solve...\n",
       "\u001b[2KCG iteration 1, residual = 0.00041082783046285945     \n",
       "\u001b[2KCG iteration 2, residual = 0.00023339069145644756     \n",
       "\u001b[2KCG iteration 3, residual = 8.580615934205563e-05     \n",
       "\u001b[2KCG iteration 4, residual = 4.024228235243495e-05     \n",
       "\u001b[2KCG iteration 5, residual = 1.9623531814128364e-05     \n",
       "\u001b[2KCG iteration 6, residual = 9.304030256394593e-06     \n",
       "\u001b[2KCG iteration 7, residual = 4.274045051719657e-06     \n",
       "\u001b[2KCG iteration 8, residual = 1.9023160896112262e-06     \n",
       "\u001b[2KCG iteration 9, residual = 7.423558716806618e-07     \n",
       "\u001b[2KCG iteration 10, residual = 2.781936761813051e-07     \n",
       "\u001b[2KCG iteration 11, residual = 1.1705215153359841e-07     \n",
       "\u001b[2KCG iteration 12, residual = 5.586165495925637e-08     \n",
       "\u001b[2KCG iteration 13, residual = 2.5426681591697298e-08     \n",
       "\u001b[2KCG iteration 14, residual = 1.0800049543008918e-08     \n",
       "\u001b[2KCG iteration 15, residual = 4.542516970412147e-09     \n",
       "\u001b[2KCG iteration 16, residual = 1.9420831279079432e-09     \n",
       "\u001b[2KCG iteration 17, residual = 8.022189331503714e-10     \n",
       "\u001b[2KCG iteration 18, residual = 3.2994380266633913e-10     \n",
       "\n",
       "time AMG setup = 0.5251154610990184 sec\n",
       "    set up  5937.741755830827 DOFS/(sec n* NP)\n",
       "time solve = 0.023436727443933013 sec\n",
       "    solved  133039.0519520739 DOFS/(sec * NP)\n"
      ]
     },
     "metadata": {},
     "output_type": "display_data"
    }
   ],
   "source": [
    "%%px\n",
    "from usrMtgStuffPar import setupElastBeam, testAndSolve\n",
    "from usrMtgPetscStuff import *\n",
    "\n",
    "V, a, f, u = setupElastBeam(N=10, dim=3)\n",
    "\n",
    "c = Preconditioner(a, f\"NgsAMG.elast_{V.mesh.dim}d\", ngs_amg_crs_alg=\"mis\")\n",
    "a.Assemble()\n",
    "f.Assemble()\n",
    "\n",
    "testAndSolve(a.mat, c, u.vec, f.vec)\n",
    "\n",
    "if MPI.COMM_WORLD.size == 1:\n",
    "    ngsolve.webgui.Draw(u, deformation=True)"
   ]
  },
  {
   "cell_type": "code",
   "execution_count": 8,
   "id": "43e425d0-f6f8-45eb-8d8f-c64af7ee72da",
   "metadata": {},
   "outputs": [
    {
     "data": {
      "text/plain": [
       "[stdout:0] PETSc GAMG setup = 0.11346564539518028\n",
       "Preconditioner test:\n",
       "   min EV = 0.2308023590897268\n",
       "   max EV = 0.9981648673869123\n",
       "   condition = 4.324760246488059\n",
       "\n",
       "\n",
       "Solve...\n",
       "\u001b[2KCG iteration 1, residual = 0.00048696038608138516     \n",
       "\u001b[2KCG iteration 2, residual = 0.00020912417008441876     \n",
       "\u001b[2KCG iteration 3, residual = 7.105727458632225e-05     \n",
       "\u001b[2KCG iteration 4, residual = 2.5971583003543306e-05     \n",
       "\u001b[2KCG iteration 5, residual = 8.92911840190126e-06     \n",
       "\u001b[2KCG iteration 6, residual = 2.919526287750718e-06     \n",
       "\u001b[2KCG iteration 7, residual = 1.1081879916501427e-06     \n",
       "\u001b[2KCG iteration 8, residual = 4.1768385496439934e-07     \n",
       "\u001b[2KCG iteration 9, residual = 1.5520313477818846e-07     \n",
       "\u001b[2KCG iteration 10, residual = 5.823851963983256e-08     \n",
       "\u001b[2KCG iteration 11, residual = 1.872863265543201e-08     \n",
       "\u001b[2KCG iteration 12, residual = 5.4861529004471286e-09     \n",
       "\u001b[2KCG iteration 13, residual = 1.7604522382841376e-09     \n",
       "\u001b[2KCG iteration 14, residual = 5.769877346730087e-10     \n",
       "\u001b[2KCG iteration 15, residual = 1.7704199752746306e-10     \n",
       "\n",
       "time solve = 0.026545917536350116 sec\n",
       "    solved  117456.85549314428 DOFS/(sec * NP)\n"
      ]
     },
     "metadata": {},
     "output_type": "display_data"
    }
   ],
   "source": [
    "%%px\n",
    "cp = petscGAMGElasticityPrecond(a)\n",
    "\n",
    "testAndSolve(a.mat, cp, u.vec, f.vec, isPETSc=True)\n",
    "\n",
    "if MPI.COMM_WORLD.size == 1:\n",
    "    ngsolve.webgui.Draw(u, deformation=True)"
   ]
  },
  {
   "cell_type": "markdown",
   "id": "0934dae9-2082-4361-9c2a-ef0e2c14486e",
   "metadata": {},
   "source": [
    "#### No silver bullet\n",
    "\n",
    "Similar limitations as PETSc, BoomerAMG, etc - problems with\n",
    " * geometries with extremely bad aspect ratio \n",
    " * stretched p2 elements\n",
    " * almost incompressibility"
   ]
  },
  {
   "cell_type": "code",
   "execution_count": 9,
   "id": "472b3708-b9e5-46a6-8f62-cc8b549767d4",
   "metadata": {},
   "outputs": [],
   "source": [
    "%%px\n",
    "from usrMtgStuffPar import setupElastBeam, testAndSolve\n",
    "from usrMtgPetscStuff import *\n",
    "\n",
    "def getKappas(aRatio, extraArgs={}):\n",
    "    V, a, f, u = setupElastBeam(N=5, aRatio=aRatio, dim=2)\n",
    "\n",
    "    c = Preconditioner(a, f\"NgsAMG.elast_{V.mesh.dim}d\", **extraArgs)\n",
    "\n",
    "    a.Assemble()\n",
    "\n",
    "    cpc = petscGAMGElasticityPrecond(a)\n",
    "    \n",
    "    evsA = ngs.la.EigenValues_Preconditioner(mat=a.mat, pre=c)\n",
    "    kappaA = evsA[-1]/evsA[0]\n",
    "\n",
    "    evsB = ngs.la.EigenValues_Preconditioner(mat=a.mat, pre=cpc)\n",
    "    kappaB = evsB[-1]/evsB[0]\n",
    "\n",
    "    if MPI.COMM_WORLD.rank == 0:\n",
    "        print(f\"aspect ratio = {aRatio}, kappa NGS = {kappaA}, kappa PETSc = {kappaB}\")\n",
    "    \n",
    "    return kappaA, kappaB"
   ]
  },
  {
   "cell_type": "code",
   "execution_count": 10,
   "id": "855e5faf-6e63-45c8-b49a-e3ddf93ee944",
   "metadata": {},
   "outputs": [
    {
     "data": {
      "text/plain": [
       "[stdout:0] Set up AMG-levels...\n",
       " map maps 36 -> 6, fac 0.166667\n",
       "Done setting up AMG-levels!\n",
       "\n",
       " ---------- AMG Summary ---------- \n",
       "Vertex complexity: 1.16667\n",
       "Operator complexity: 1.24894\n",
       "Vertex complexity components: 1 0.166667 \n",
       "Operator complexity components: 1 0.248936 \n",
       "# vertices 36 6 \n",
       "# edges: 85 10 \n",
       "# procs: 4 2 \n",
       "NZEs:235 26 \n",
       " ---------- AMG Summary End ---------- \n",
       "\n",
       "PETSc GAMG setup = 0.0026445516353786674\n",
       "aspect ratio = 1, kappa NGS = 11.744398329682209, kappa PETSc = 8.52549281450067\n",
       "Set up AMG-levels...\n",
       " map maps 156 -> 23, fac 0.147436\n",
       "Done setting up AMG-levels!\n",
       "\n",
       " ---------- AMG Summary ---------- \n",
       "Vertex complexity: 1.14744\n",
       "Operator complexity: 1.3887\n",
       "Vertex complexity components: 1 0.147436 \n",
       "Operator complexity components: 1 0.388697 \n",
       "# vertices 156 23 \n",
       "# edges: 405 46 \n",
       "# procs: 4 2 \n",
       "NZEs:1013 175 \n",
       " ---------- AMG Summary End ---------- \n",
       "\n",
       "PETSc GAMG setup = 0.003675211628097517\n",
       "aspect ratio = 5, kappa NGS = 3.392923961703313, kappa PETSc = 3.061264058425444\n",
       "Set up AMG-levels...\n",
       " map maps 306 -> 39, fac 0.127451\n",
       "Done setting up AMG-levels!\n",
       "\n",
       " ---------- AMG Summary ---------- \n",
       "Vertex complexity: 1.12745\n",
       "Operator complexity: 1.41466\n",
       "Vertex complexity components: 1 0.127451 \n",
       "Operator complexity components: 1 0.414656 \n",
       "# vertices 306 39 \n",
       "# edges: 805 92 \n",
       "# procs: 4 2 \n",
       "NZEs:1948 359 \n",
       " ---------- AMG Summary End ---------- \n",
       "\n",
       "PETSc GAMG setup = 0.004296607947247803\n",
       "aspect ratio = 10, kappa NGS = 5.528897077111812, kappa PETSc = 2.875358759969208\n",
       "Set up AMG-levels...\n",
       " map maps 606 -> 79, fac 0.130363\n",
       " map maps 79 -> 12, fac 0.151899\n",
       "Done setting up AMG-levels!\n",
       "\n",
       " ---------- AMG Summary ---------- \n",
       "Vertex complexity: 1.15017\n",
       "Operator complexity: 1.37364\n",
       "Vertex complexity components: 1 0.130363 0.019802 \n",
       "Operator complexity components: 1 0.32218 0.0514553 \n",
       "# vertices 606 79 12 \n",
       "# edges: 1605 195 21 \n",
       "# procs: 4 2 2 \n",
       "NZEs:3848 551 88 \n",
       " ---------- AMG Summary End ---------- \n",
       "\n",
       "PETSc GAMG setup = 0.004962074932788258\n",
       "aspect ratio = 20, kappa NGS = 9.396947165104974, kappa PETSc = 7.077565738971164\n",
       "Set up AMG-levels...\n",
       " map maps 1506 -> 200, fac 0.132802\n",
       " map maps 200 -> 30, fac 0.15\n",
       "Done setting up AMG-levels!\n",
       "\n",
       " ---------- AMG Summary ---------- \n",
       "Vertex complexity: 1.15272\n",
       "Operator complexity: 1.44774\n",
       "Vertex complexity components: 1 0.132802 0.0199203 \n",
       "Operator complexity components: 1 0.364788 0.0829493 \n",
       "# vertices 1506 200 30 \n",
       "# edges: 4005 522 68 \n",
       "# procs: 4 2 2 \n",
       "NZEs:9548 1548 352 \n",
       " ---------- AMG Summary End ---------- \n",
       "\n",
       "PETSc GAMG setup = 0.008661125243187481\n",
       "aspect ratio = 50, kappa NGS = 19.44876907468686, kappa PETSc = 28.711495673034737\n",
       "Set up AMG-levels...\n",
       " map maps 3006 -> 383, fac 0.127412\n",
       " map maps 383 -> 56, fac 0.146214\n",
       " map maps 56 -> 8, fac 0.142857\n",
       "Done setting up AMG-levels!\n",
       "\n",
       " ---------- AMG Summary ---------- \n",
       "Vertex complexity: 1.1487\n",
       "Operator complexity: 1.44308\n",
       "Vertex complexity components: 1 0.127412 0.0186294 0.00266134 \n",
       "Operator complexity components: 1 0.34858 0.0869383 0.00755985 \n",
       "# vertices 3006 383 56 8 \n",
       "# edges: 8005 1010 138 13 \n",
       "# procs: 4 2 2 2 \n",
       "NZEs:19048 2951 736 64 \n",
       " ---------- AMG Summary End ---------- \n",
       "\n",
       "PETSc GAMG setup = 0.01309853062420472\n",
       "aspect ratio = 100, kappa NGS = 51.8983465238656, kappa PETSc = 90.18928245308159\n",
       "Set up AMG-levels...\n",
       " map maps 6006 -> 761, fac 0.126707\n",
       " map maps 761 -> 102, fac 0.134034\n",
       " map maps 102 -> 16, fac 0.156863\n",
       "Done setting up AMG-levels!\n",
       "\n",
       " ---------- AMG Summary ---------- \n",
       "Vertex complexity: 1.14635\n",
       "Operator complexity: 1.44594\n",
       "Vertex complexity components: 1 0.126707 0.016983 0.002664 \n",
       "Operator complexity components: 1 0.353573 0.0814892 0.010881 \n",
       "# vertices 6006 761 102 16 \n",
       "# edges: 16005 2019 261 31 \n",
       "# procs: 4 2 2 2 \n",
       "NZEs:38048 5979 1378 184 \n",
       " ---------- AMG Summary End ---------- \n",
       "\n",
       "PETSc GAMG setup = 0.020651840081404912\n",
       "aspect ratio = 200, kappa NGS = 150.51665464233903, kappa PETSc = 262.4227391550156\n",
       "Set up AMG-levels...\n",
       " map maps 15006 -> 1884, fac 0.12555\n",
       " map maps 1884 -> 244, fac 0.129512\n",
       " map maps 244 -> 36, fac 0.147541\n",
       "Done setting up AMG-levels!\n",
       "\n",
       " ---------- AMG Summary ---------- \n",
       "Vertex complexity: 1.14421\n",
       "Operator complexity: 1.43756\n",
       "Vertex complexity components: 1 0.12555 0.0162602 0.00239904 \n",
       "Operator complexity components: 1 0.346136 0.0785919 0.0128304 \n",
       "# vertices 15006 1884 244 36 \n",
       "# edges: 40005 5013 640 85 \n",
       "# procs: 4 2 2 2 \n",
       "NZEs:95048 14622 3320 542 \n",
       " ---------- AMG Summary End ---------- \n",
       "\n",
       "PETSc GAMG setup = 0.04365917729069247\n",
       "aspect ratio = 500, kappa NGS = 106.44080644909579, kappa PETSc = 834.7727482131257\n",
       "Set up AMG-levels...\n",
       " map maps 30006 -> 3762, fac 0.125375\n",
       " map maps 3762 -> 478, fac 0.12706\n",
       " map maps 478 -> 65, fac 0.135983\n",
       " map maps 65 -> 13, fac 0.2\n",
       "Done setting up AMG-levels!\n",
       "\n",
       " ---------- AMG Summary ---------- \n",
       "Vertex complexity: 1.1439\n",
       "Operator complexity: 1.43928\n",
       "Vertex complexity components: 1 0.125375 0.0159301 0.00216623 0.000433247 \n",
       "Operator complexity components: 1 0.351006 0.0749653 0.0115195 0.00178771 \n",
       "# vertices 30006 3762 478 65 13 \n",
       "# edges: 80005 10021 1263 162 24 \n",
       "# procs: 4 2 2 2 2 \n",
       "NZEs:190048 29648 6332 973 151 \n",
       " ---------- AMG Summary End ---------- \n",
       "\n",
       "PETSc GAMG setup = 0.08616437351997473\n",
       "aspect ratio = 1000, kappa NGS = 777.4124603552722, kappa PETSc = 2460.816014756491\n"
      ]
     },
     "metadata": {},
     "output_type": "display_data"
    }
   ],
   "source": [
    "%%px\n",
    "ratios = [1,5,10,20,50,100,200,500,1000]\n",
    "kappas = [ getKappas(r) for r in ratios ]"
   ]
  },
  {
   "cell_type": "code",
   "execution_count": 11,
   "id": "848321b9-5595-4878-b159-e5c05ad07f13",
   "metadata": {},
   "outputs": [
    {
     "data": {
      "text/plain": [
       "[output:0]"
      ]
     },
     "metadata": {},
     "output_type": "display_data"
    },
    {
     "data": {
      "image/png": "[encoded data removed]",
      "text/plain": [
       "<Figure size 640x480 with 1 Axes>"
      ]
     },
     "metadata": {
      "engine": 0
     },
     "output_type": "display_data"
    }
   ],
   "source": [
    "%%px\n",
    "if MPI.COMM_WORLD.rank == 0:\n",
    "    plt.semilogx(ratios, [x for x,y in kappas], label=\"NgsAMG\")\n",
    "    plt.semilogx(ratios, [y for x,y in kappas], label=\"GAMG\")\n",
    "    plt.legend()"
   ]
  },
  {
   "cell_type": "markdown",
   "id": "0d2ccdac-17d5-4a92-bd4d-84f79fbc6aef",
   "metadata": {},
   "source": [
    "#### Thin meshes mitigation\n",
    "\n",
    "There are some options to improve robustness for thin regions\n",
    " * Use block-smoothers\n",
    " * Experimental iterative improvement of prolongations (nut fully parallelized, YMMV)"
   ]
  },
  {
   "cell_type": "code",
   "execution_count": 12,
   "id": "ee444f6e-e90a-46e8-8cd9-2e3f0fc10607",
   "metadata": {},
   "outputs": [
    {
     "data": {
      "text/plain": [
       "[stderr:1]  WARNING!! sp_improve_its option is not fully parallelized!\n",
       " WARNING!! sp_improve_its option is not fully parallelized!\n",
       " WARNING!! sp_improve_its option is not fully parallelized!\n",
       " WARNING!! sp_improve_its option is not fully parallelized!\n",
       " WARNING!! sp_improve_its option is not fully parallelized!\n",
       " WARNING!! sp_improve_its option is not fully parallelized!\n",
       " WARNING!! sp_improve_its option is not fully parallelized!\n",
       " WARNING!! sp_improve_its option is not fully parallelized!\n",
       " WARNING!! sp_improve_its option is not fully parallelized!\n"
      ]
     },
     "metadata": {},
     "output_type": "display_data"
    },
    {
     "data": {
      "text/plain": [
       "[stdout:0] Set up AMG-levels...\n",
       " map maps 36 -> 6, fac 0.166667\n",
       "Done setting up AMG-levels!\n",
       "\n",
       " ---------- AMG Summary ---------- \n",
       "Vertex complexity: 1.16667\n",
       "Operator complexity: 1.24894\n",
       "Vertex complexity components: 1 0.166667 \n",
       "Operator complexity components: 1 0.248936 \n",
       "# vertices 36 6 \n",
       "# edges: 85 10 \n",
       "# procs: 4 2 \n",
       "NZEs:235 26 \n",
       " ---------- AMG Summary End ---------- \n",
       "\n",
       "PETSc GAMG setup = 0.0026363001685682083\n",
       "aspect ratio = 1, kappa NGS = 10.85927564100583, kappa PETSc = 8.525493335717888\n",
       "Set up AMG-levels...\n",
       " map maps 156 -> 23, fac 0.147436\n",
       "Done setting up AMG-levels!\n",
       "\n",
       " ---------- AMG Summary ---------- \n",
       "Vertex complexity: 1.14744\n",
       "Operator complexity: 1.3887\n",
       "Vertex complexity components: 1 0.147436 \n",
       "Operator complexity components: 1 0.388697 \n",
       "# vertices 156 23 \n",
       "# edges: 405 46 \n",
       "# procs: 4 2 \n",
       "NZEs:1013 175 \n",
       " ---------- AMG Summary End ---------- \n",
       "\n",
       "PETSc GAMG setup = 0.0036505234056150074\n",
       "aspect ratio = 5, kappa NGS = 2.4348081310007426, kappa PETSc = 3.0612577043038884\n",
       "Set up AMG-levels...\n",
       " map maps 306 -> 39, fac 0.127451\n",
       "Done setting up AMG-levels!\n",
       "\n",
       " ---------- AMG Summary ---------- \n",
       "Vertex complexity: 1.12745\n",
       "Operator complexity: 1.41466\n",
       "Vertex complexity components: 1 0.127451 \n",
       "Operator complexity components: 1 0.414656 \n",
       "# vertices 306 39 \n",
       "# edges: 805 92 \n",
       "# procs: 4 2 \n",
       "NZEs:1948 359 \n",
       " ---------- AMG Summary End ---------- \n",
       "\n",
       "PETSc GAMG setup = 0.004412969558153662\n",
       "aspect ratio = 10, kappa NGS = 3.186960812861111, kappa PETSc = 2.8753947637117028\n",
       "Set up AMG-levels...\n",
       " map maps 606 -> 79, fac 0.130363\n",
       " map maps 79 -> 12, fac 0.151899\n",
       "Done setting up AMG-levels!\n",
       "\n",
       " ---------- AMG Summary ---------- \n",
       "Vertex complexity: 1.15017\n",
       "Operator complexity: 1.37364\n",
       "Vertex complexity components: 1 0.130363 0.019802 \n",
       "Operator complexity components: 1 0.32218 0.0514553 \n",
       "# vertices 606 79 12 \n",
       "# edges: 1605 195 21 \n",
       "# procs: 4 2 2 \n",
       "NZEs:3848 551 88 \n",
       " ---------- AMG Summary End ---------- \n",
       "\n",
       "PETSc GAMG setup = 0.005059351900556358\n",
       "aspect ratio = 20, kappa NGS = 4.791094940138351, kappa PETSc = 7.077767807326243\n",
       "Set up AMG-levels...\n",
       " map maps 1506 -> 200, fac 0.132802\n",
       " map maps 200 -> 30, fac 0.15\n",
       "Done setting up AMG-levels!\n",
       "\n",
       " ---------- AMG Summary ---------- \n",
       "Vertex complexity: 1.15272\n",
       "Operator complexity: 1.44774\n",
       "Vertex complexity components: 1 0.132802 0.0199203 \n",
       "Operator complexity components: 1 0.364788 0.0829493 \n",
       "# vertices 1506 200 30 \n",
       "# edges: 4005 522 68 \n",
       "# procs: 4 2 2 \n",
       "NZEs:9548 1548 352 \n",
       " ---------- AMG Summary End ---------- \n",
       "\n",
       "PETSc GAMG setup = 0.008833042472656046\n",
       "aspect ratio = 50, kappa NGS = 5.820515639090177, kappa PETSc = 28.697838510267793\n",
       "Set up AMG-levels...\n",
       " map maps 3006 -> 383, fac 0.127412\n",
       " map maps 383 -> 56, fac 0.146214\n",
       " map maps 56 -> 8, fac 0.142857\n",
       "Done setting up AMG-levels!\n",
       "\n",
       " ---------- AMG Summary ---------- \n",
       "Vertex complexity: 1.1487\n",
       "Operator complexity: 1.44308\n",
       "Vertex complexity components: 1 0.127412 0.0186294 0.00266134 \n",
       "Operator complexity components: 1 0.34858 0.0869383 0.00755985 \n",
       "# vertices 3006 383 56 8 \n",
       "# edges: 8005 1010 138 13 \n",
       "# procs: 4 2 2 2 \n",
       "NZEs:19048 2951 736 64 \n",
       " ---------- AMG Summary End ---------- \n",
       "\n",
       "PETSc GAMG setup = 0.013150972801126547\n",
       "aspect ratio = 100, kappa NGS = 8.866235209515173, kappa PETSc = 90.20513792272618\n",
       "Set up AMG-levels...\n",
       " map maps 6006 -> 761, fac 0.126707\n",
       " map maps 761 -> 102, fac 0.134034\n",
       " map maps 102 -> 16, fac 0.156863\n",
       "Done setting up AMG-levels!\n",
       "\n",
       " ---------- AMG Summary ---------- \n",
       "Vertex complexity: 1.14635\n",
       "Operator complexity: 1.44594\n",
       "Vertex complexity components: 1 0.126707 0.016983 0.002664 \n",
       "Operator complexity components: 1 0.353573 0.0814892 0.010881 \n",
       "# vertices 6006 761 102 16 \n",
       "# edges: 16005 2019 261 31 \n",
       "# procs: 4 2 2 2 \n",
       "NZEs:38048 5979 1378 184 \n",
       " ---------- AMG Summary End ---------- \n",
       "\n",
       "PETSc GAMG setup = 0.02066006153728507\n",
       "aspect ratio = 200, kappa NGS = 16.091070815999228, kappa PETSc = 262.6099262907687\n",
       "Set up AMG-levels...\n",
       " map maps 15006 -> 1884, fac 0.12555\n",
       " map maps 1884 -> 244, fac 0.129512\n",
       " map maps 244 -> 36, fac 0.147541\n",
       "Done setting up AMG-levels!\n",
       "\n",
       " ---------- AMG Summary ---------- \n",
       "Vertex complexity: 1.14421\n",
       "Operator complexity: 1.43756\n",
       "Vertex complexity components: 1 0.12555 0.0162602 0.00239904 \n",
       "Operator complexity components: 1 0.346136 0.0785919 0.0128304 \n",
       "# vertices 15006 1884 244 36 \n",
       "# edges: 40005 5013 640 85 \n",
       "# procs: 4 2 2 2 \n",
       "NZEs:95048 14622 3320 542 \n",
       " ---------- AMG Summary End ---------- \n",
       "\n",
       "PETSc GAMG setup = 0.045248599252003245\n",
       "aspect ratio = 500, kappa NGS = 18.815569197448582, kappa PETSc = 832.4180760257558\n",
       "Set up AMG-levels...\n",
       " map maps 30006 -> 3762, fac 0.125375\n",
       " map maps 3762 -> 478, fac 0.12706\n",
       " map maps 478 -> 65, fac 0.135983\n",
       " map maps 65 -> 13, fac 0.2\n",
       "Done setting up AMG-levels!\n",
       "\n",
       " ---------- AMG Summary ---------- \n",
       "Vertex complexity: 1.1439\n",
       "Operator complexity: 1.43928\n",
       "Vertex complexity components: 1 0.125375 0.0159301 0.00216623 0.000433247 \n",
       "Operator complexity components: 1 0.351006 0.0749653 0.0115195 0.00178771 \n",
       "# vertices 30006 3762 478 65 13 \n",
       "# edges: 80005 10021 1263 162 24 \n",
       "# procs: 4 2 2 2 2 \n",
       "NZEs:190048 29648 6332 973 151 \n",
       " ---------- AMG Summary End ---------- \n",
       "\n",
       "PETSc GAMG setup = 0.08258959231585992\n",
       "aspect ratio = 1000, kappa NGS = 112.7331912779207, kappa PETSc = 2460.8924581936126\n"
      ]
     },
     "metadata": {},
     "output_type": "display_data"
    },
    {
     "data": {
      "text/plain": [
       "[stderr:2]  WARNING!! sp_improve_its option is not fully parallelized!\n",
       " WARNING!! sp_improve_its option is not fully parallelized!\n",
       " WARNING!! sp_improve_its option is not fully parallelized!\n",
       " WARNING!! sp_improve_its option is not fully parallelized!\n",
       " WARNING!! sp_improve_its option is not fully parallelized!\n",
       " WARNING!! sp_improve_its option is not fully parallelized!\n",
       " WARNING!! sp_improve_its option is not fully parallelized!\n",
       " WARNING!! sp_improve_its option is not fully parallelized!\n",
       " WARNING!! sp_improve_its option is not fully parallelized!\n"
      ]
     },
     "metadata": {},
     "output_type": "display_data"
    },
    {
     "data": {
      "text/plain": [
       "[stderr:3]  WARNING!! sp_improve_its option is not fully parallelized!\n",
       " WARNING!! sp_improve_its option is not fully parallelized!\n",
       " WARNING!! sp_improve_its option is not fully parallelized!\n",
       " WARNING!! sp_improve_its option is not fully parallelized!\n",
       " WARNING!! sp_improve_its option is not fully parallelized!\n",
       " WARNING!! sp_improve_its option is not fully parallelized!\n",
       " WARNING!! sp_improve_its option is not fully parallelized!\n",
       " WARNING!! sp_improve_its option is not fully parallelized!\n",
       " WARNING!! sp_improve_its option is not fully parallelized!\n"
      ]
     },
     "metadata": {},
     "output_type": "display_data"
    },
    {
     "data": {
      "text/plain": [
       "[stderr:0]  WARNING!! sp_improve_its option is not fully parallelized!\n",
       " WARNING!! sp_improve_its option is not fully parallelized!\n",
       " WARNING!! sp_improve_its option is not fully parallelized!\n",
       " WARNING!! sp_improve_its option is not fully parallelized!\n",
       " WARNING!! sp_improve_its option is not fully parallelized!\n",
       " WARNING!! sp_improve_its option is not fully parallelized!\n",
       " WARNING!! sp_improve_its option is not fully parallelized!\n",
       " WARNING!! sp_improve_its option is not fully parallelized!\n",
       " WARNING!! sp_improve_its option is not fully parallelized!\n"
      ]
     },
     "metadata": {},
     "output_type": "display_data"
    }
   ],
   "source": [
    "%%px\n",
    "extraArgs = { \"ngs_amg_crs_alg\":\"spw\", \"ngs_amg_sm_type\":\"bgs\", \"ngs_amg_sp_improve_its\":2, \"ngs_amg_sp_omega\":0.8 }\n",
    "\n",
    "ratios = [1,5,10,20,50,100,200,500,1000]\n",
    "kappas = [ getKappas(r, extraArgs) for r in ratios ]"
   ]
  },
  {
   "cell_type": "code",
   "execution_count": 13,
   "id": "2b7d0afe-ac6d-403a-b781-d7b3f74a11f3",
   "metadata": {
    "scrolled": true
   },
   "outputs": [
    {
     "data": {
      "text/plain": [
       "[output:0]"
      ]
     },
     "metadata": {},
     "output_type": "display_data"
    },
    {
     "data": {
      "image/png": "[encoded data removed]",
      "text/plain": [
       "<Figure size 640x480 with 1 Axes>"
      ]
     },
     "metadata": {
      "engine": 0
     },
     "output_type": "display_data"
    }
   ],
   "source": [
    "%%px\n",
    "if MPI.COMM_WORLD.rank == 0:\n",
    "    plt.semilogx(ratios, [x for x,y in kappas], label=\"NgsAMG\")\n",
    "    plt.semilogx(ratios, [y for x,y in kappas], label=\"GAMG\")\n",
    "    plt.legend()"
   ]
  },
  {
   "cell_type": "code",
   "execution_count": null,
   "id": "7712c36a-5ec4-4fe5-a02e-e7819413a94c",
   "metadata": {},
   "outputs": [],
   "source": []
  }
 ],
 "metadata": {
  "kernelspec": {
   "display_name": "Python 3 (ipykernel)",
   "language": "python",
   "name": "python3"
  },
  "language_info": {
   "codemirror_mode": {
    "name": "ipython",
    "version": 3
   },
   "file_extension": ".py",
   "mimetype": "text/x-python",
   "name": "python",
   "nbconvert_exporter": "python",
   "pygments_lexer": "ipython3",
   "version": "3.11.13"
  }
 },
 "nbformat": 4,
 "nbformat_minor": 5
}
