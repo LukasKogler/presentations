{
 "cells": [
  {
   "cell_type": "markdown",
   "id": "0eb10a5b-a647-48c8-a098-2d6aae1ea20c",
   "metadata": {},
   "source": [
    "## Smoothers\n",
    "\n",
    "Various Gauss-Seidel-type MPI-parallel, multiplicative smoothers that overlap MPI and communication:\n",
    "* Regular Gauss-Seidel\n",
    "* Block-Gauss-Seidel\n",
    "* Dynamic-Block-Gauss-Seidel (quite fast for high-order FEM matrices)\n",
    "\n",
    "Let us set up a Stokes problem on the unit cube to demonstrate"
   ]
  },
  {
   "cell_type": "code",
   "execution_count": 5,
   "id": "3d388b38-5c2a-400f-abf4-8c2d425f0845",
   "metadata": {},
   "outputs": [
    {
     "name": "stdout",
     "output_type": "stream",
     "text": [
      "(globally) created 12016 facet-blocks of average size 32.92276964047936\n"
     ]
    }
   ],
   "source": [
    "from ipywidgets import interact, interactive, fixed, interact_manual\n",
    "import ipywidgets as widgets\n",
    "from ngsolve import *\n",
    "from ngsolve.webgui import Draw\n",
    "import ngsolve as ngs\n",
    "import netgen as ng\n",
    "import NgsAMG as amg\n",
    "from netgen.csg import unit_cube\n",
    "from usrMtgStuffSeq import StokesHDGDiscretization, MakeFacetBlocks \n",
    "\n",
    "def gen_ref_mesh (geo, maxh, nref, comm):\n",
    "    ngs.ngsglobals.msg_level = 1\n",
    "    if comm.rank==0:\n",
    "        ngm = geo.GenerateMesh(maxh=maxh)\n",
    "        if comm.size > 0:\n",
    "            ngm.Distribute(comm)\n",
    "    else:\n",
    "        ngm = ng.meshing.Mesh.Receive(comm)\n",
    "    ngm.SetGeometry(geo)\n",
    "    for l in range(nref):\n",
    "        ngm.Refine()\n",
    "    return geo, ngs.comp.Mesh(ngm)\n",
    "\n",
    "mesh = Mesh(unit_cube.GenerateMesh(maxh=0.2))\n",
    "for k in range(1):\n",
    "    mesh.ngmesh.Refine()\n",
    "(V, a, f, u) = StokesHDGDiscretization(mesh, order=4, wall=\"\", inlet=\"\", outlet=\".*\", nu=1e0, div_div_pen=0)\n",
    "a.Assemble()\n",
    "\n",
    "# blocks to use for smoothers later\n",
    "blocks = MakeFacetBlocks(V, V.FreeDofs(True))"
   ]
  },
  {
   "cell_type": "markdown",
   "id": "67ae8590-1b02-4ff3-96a3-9b5f23f128b8",
   "metadata": {},
   "source": [
    "#### How to use NgsAMG smoothers\n",
    "\n",
    "Drop-in replacementfor NGSolve **multiplicative** GS/BGS smoothers, additive not supported, some additional optional parameters in Smooth/SmoothBack.\n"
   ]
  },
  {
   "cell_type": "code",
   "execution_count": 6,
   "id": "72ea2a64-340f-45b9-9cf1-3bae6f52dd70",
   "metadata": {},
   "outputs": [],
   "source": [
    "from ngsolve import *\n",
    "import NgsAMG as amg\n",
    "\n",
    "class SmootherAsPrecond (BaseMatrix):\n",
    "    def __init__(self, smoother, mat, ngsSmoother=True):\n",
    "        super(SmootherAsPrecond, self).__init__()\n",
    "        self.ngsSmoother = ngsSmoother # smooth with residuum\n",
    "        self.A = mat\n",
    "        self.S = smoother\n",
    "        self.res = self.S.CreateColVector()\n",
    "    def IsComplex(self):\n",
    "        return False\n",
    "    def Height(self):\n",
    "        return self.S.height\n",
    "    def Width(self):\n",
    "        return self.S.width\n",
    "    def CreateColVector(self):\n",
    "        return self.S.CreateColVector()\n",
    "    def CreateRowVector(self):\n",
    "        return self.S.CreateRowVector()\n",
    "    def MultAdd(self, scal, b, x):\n",
    "        self.Mult(b, self.xtemp)\n",
    "        x.data += scal * self.xtemp\n",
    "    def MultTransAdd(self, scal, b, x):\n",
    "        self.MultAdd(scal, b, x)\n",
    "    def MultTrans(self, b, x):\n",
    "        self.Mult(b, x)\n",
    "    def Mult(self, b, x):\n",
    "        x[:] = 0.0\n",
    "        if not self.ngsSmoother:\n",
    "            # update residual with forward smooth\n",
    "            self.res.data = b\n",
    "            self.S.Smooth(x, b, self.res, x_zero=True, res_updated=True, update_res=True)\n",
    "            self.S.SmoothBack(x, b, self.res, x_zero=False, res_updated=True, update_res=False)\n",
    "        else:\n",
    "            self.S.Smooth(x, b)\n",
    "            self.S.SmoothBack(x, b)"
   ]
  },
  {
   "cell_type": "markdown",
   "id": "afc6a841-4482-44de-b8c4-04ae4cbe03e2",
   "metadata": {},
   "source": [
    "#### Gauss-Seidel & Block-Gauss-Seidel\n",
    "\n",
    "Limitation for Block-smoothers in parallel:\n",
    " * Blocks may not cross MPI subdomain boundaries\n",
    " * Each DOF is owned by the master rank, it will only be included in blocks on that rank\n",
    "\n",
    "Some examples:\n",
    " * Works: blocks of all cell/face/edge/vertex-DOFs\n",
    " * Does not work: face/edge-patch, facet-plus-cells\n",
    " * Does not work as expected: element, i.e. cell-plus-face-plus-edge-plus-vertex; Master of each DOF will own it, no update from other ranks!\n",
    "\n"
   ]
  },
  {
   "cell_type": "code",
   "execution_count": 9,
   "id": "6e8ec6f8-8efe-44c4-945e-7683815a68ff",
   "metadata": {},
   "outputs": [
    {
     "name": "stdout",
     "output_type": "stream",
     "text": [
      "\n",
      "Testing smoother NgSolve-GS:\n",
      "  If used as preconditioner:\n",
      "      lam min:   0.0021900969266990524\n",
      "      lam max:   0.9983676557732455\n",
      "      condition: 455.85546630486374\n",
      "  sec per smooth forward:   0.09158714450825729\n",
      "  sec per smooth backward:  0.1404630096913897\n",
      "\n",
      "Testing smoother NgsAMG-GS:\n",
      "  If used as preconditioner:\n",
      "      lam min:   0.002215785280764354\n",
      "      lam max:   0.9983693235961033\n",
      "      condition: 450.5713311949194\n",
      "  sec per smooth forward:   0.09313129201869233\n",
      "  sec per smooth backward:  0.11365140847969073\n",
      "\n",
      "Testing smoother NgSolve-Block-GS:\n",
      "  If used as preconditioner:\n",
      "      lam min:   0.002228200734036817\n",
      "      lam max:   0.9997229612537382\n",
      "      condition: 448.66826672413237\n",
      "  sec per smooth forward:   0.1013757567672062\n",
      "  sec per smooth backward:  0.10111431541003672\n",
      "\n",
      "Testing smoother NgsAMG-Block-GS:\n",
      "  If used as preconditioner:\n",
      "      lam min:   0.0023592213595689812\n",
      "      lam max:   0.9994825264088574\n",
      "      condition: 423.64932071972174\n",
      "  sec per smooth forward:   0.09694754275495347\n",
      "  sec per smooth backward:  0.12966245674846286\n"
     ]
    }
   ],
   "source": [
    "from usrMtgStuffSeq import TestSmoother\n",
    "\n",
    "# NGSolve built-in smoothers\n",
    "gs = a.mat.CreateSmoother(V.FreeDofs(True))\n",
    "bgs = a.mat.CreateBlockSmoother(blocks)\n",
    "\n",
    "# NgsAMG hybrid smoothers - MPI-parallel & communication overlapping\n",
    "hybGS = amg.CreateHybridGSS(mat=a.mat,freedofs=V.FreeDofs(True))\n",
    "hybBGS = amg.CreateHybridBlockGSS(mat=a.mat,blocks=blocks)\n",
    "\n",
    "TestSmoother(gs, a.mat, True, \"NgSolve-GS\")\n",
    "TestSmoother(hybGS, a.mat, True, \"NgsAMG-GS\")\n",
    "\n",
    "TestSmoother(bgs, a.mat, True,    \"NgSolve-Block-GS\")\n",
    "TestSmoother(hybBGS, a.mat, True, \"NgsAMG-Block-GS\")"
   ]
  },
  {
   "cell_type": "markdown",
   "id": "9b4eda84-d410-4337-adbf-2a92a1aec90c",
   "metadata": {},
   "source": [
    "#### Dynamic Block-Gauss-Seidel\n",
    "\n",
    "Sparse Matrix and Smoother implementation that exploits repetitive sparsity pattern of HO matrices.\n"
   ]
  },
  {
   "cell_type": "code",
   "execution_count": 10,
   "id": "455f4832-3cdd-48ae-a975-b95252dcaf58",
   "metadata": {},
   "outputs": [
    {
     "name": "stdout",
     "output_type": "stream",
     "text": [
      "\n",
      "Testing SPMV assembled SparseMatrix:\n",
      "  sec per spmv:   0.09350949206103294\n",
      "\n",
      "Testing SPMV NgsAMG Dyn-Block matrix:\n",
      "  sec per spmv:   0.03545578619640913\n"
     ]
    }
   ],
   "source": [
    "from usrMtgStuffSeq import TestSPMV\n",
    "\n",
    "A = a.mat\n",
    "dynA = amg.ConvertDynBlock(a.mat)\n",
    "\n",
    "TestSPMV(a.mat, \"assembled SparseMatrix\")\n",
    "TestSPMV(dynA, \"NgsAMG Dyn-Block matrix\")\n"
   ]
  },
  {
   "cell_type": "code",
   "execution_count": 14,
   "id": "28632c77-4291-41e2-9c6f-6c797f4bab40",
   "metadata": {},
   "outputs": [
    {
     "name": "stdout",
     "output_type": "stream",
     "text": [
      "\n",
      "Testing smoother NgSolve-Block-GS:\n",
      "  If used as preconditioner:\n",
      "      lam min:   0.002212788319141263\n",
      "      lam max:   0.9997247149932802\n",
      "      condition: 451.7941035504257\n",
      "  sec per smooth forward:   0.1012224087213601\n",
      "  sec per smooth backward:  0.10110836922591745\n",
      "\n",
      "Testing smoother NgsAMG DynBlockSmoother:\n",
      "  If used as preconditioner:\n",
      "      lam min:   0.002358245277728683\n",
      "      lam max:   0.999727202431127\n",
      "      condition: 423.9284233377127\n",
      "  sec per smooth forward:   0.041157394404503465\n",
      "  sec per smooth backward:  0.04360024573639968\n"
     ]
    }
   ],
   "source": [
    "from usrMtgStuffSeq import TestSmoother\n",
    "\n",
    "bgs = a.mat.CreateBlockSmoother(blocks)\n",
    "\n",
    "dynSM = amg.CreateDynBlockSmoother(a.mat, V.FreeDofs(True)) \n",
    "\n",
    "TestSmoother(bgs,    a.mat, True, \"NgSolve-Block-GS\")\n",
    "TestSmoother(dynSM, a.mat, True, \"NgsAMG DynBlockSmoother\")"
   ]
  },
  {
   "cell_type": "code",
   "execution_count": null,
   "id": "cf1eefac-6ca3-4095-b239-e647dca228d7",
   "metadata": {},
   "outputs": [],
   "source": []
  }
 ],
 "metadata": {
  "kernelspec": {
   "display_name": "Python 3 (ipykernel)",
   "language": "python",
   "name": "python3"
  },
  "language_info": {
   "codemirror_mode": {
    "name": "ipython",
    "version": 3
   },
   "file_extension": ".py",
   "mimetype": "text/x-python",
   "name": "python",
   "nbconvert_exporter": "python",
   "pygments_lexer": "ipython3",
   "version": "3.11.13"
  }
 },
 "nbformat": 4,
 "nbformat_minor": 5
}
