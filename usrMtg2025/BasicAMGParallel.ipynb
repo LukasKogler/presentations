{
 "cells": [
  {
   "cell_type": "code",
   "execution_count": 1,
   "id": "80ebddef-c496-4eb4-94db-6569e153a7ff",
   "metadata": {},
   "outputs": [
    {
     "name": "stdout",
     "output_type": "stream",
     "text": [
      "Starting 1 engines with <class 'ipyparallel.cluster.launcher.MPIEngineSetLauncher'>\n"
     ]
    },
    {
     "data": {
      "application/vnd.jupyter.widget-view+json": {
       "model_id": "1936a37f40664808b51e9186e4d5d558",
       "version_major": 2,
       "version_minor": 0
      },
      "text/plain": [
       "  0%|          | 0/1 [00:00<?, ?engine/s]"
      ]
     },
     "metadata": {},
     "output_type": "display_data"
    },
    {
     "data": {
      "text/plain": [
       "[0]"
      ]
     },
     "execution_count": 1,
     "metadata": {},
     "output_type": "execute_result"
    }
   ],
   "source": [
    "import ipyparallel as ipp\n",
    "\n",
    "from ipyparallel import Cluster\n",
    "c = await Cluster(engines=\"mpi\", profile=\"myprofile\").start_and_connect(n=1, activate=True)\n",
    "c.ids"
   ]
  },
  {
   "cell_type": "code",
   "execution_count": 2,
   "id": "38607001-ad4c-4603-9311-322b0eb717ad",
   "metadata": {},
   "outputs": [],
   "source": [
    "%%px\n",
    "from ngsolve import *\n",
    "from ngsolve.webgui import Draw\n",
    "import ngsolve as ngs\n",
    "import NgsAMG as amg"
   ]
  },
  {
   "cell_type": "markdown",
   "id": "544684a1-a775-4fca-95ad-5afa2fddbd2f",
   "metadata": {},
   "source": [
    "### H1\n",
    "\n",
    "It works, I guess."
   ]
  },
  {
   "cell_type": "code",
   "execution_count": 3,
   "id": "4602ccf2-6e10-49e5-9d71-6aa250875b27",
   "metadata": {},
   "outputs": [
    {
     "data": {
      "text/plain": [
       "[stdout:0] Set up AMG-levels...\n",
       " map maps 11788 -> 1467, fac 0.124449\n",
       " map maps 1467 -> 205, fac 0.139741\n",
       " map maps 205 -> 31, fac 0.15122\n",
       "Done setting up AMG-levels!\n",
       "\n",
       " ---------- AMG Summary ---------- \n",
       "Vertex complexity: 1.14447\n",
       "Operator complexity: 1.32634\n",
       "Vertex complexity components: 1 0.124449 0.0173906 0.00262979 \n",
       "Operator complexity components: 1 0.260201 0.0595398 0.0065965 \n",
       "# vertices 11788 1467 205 31 \n",
       "# edges: 34961 4294 577 77 \n",
       "# procs: 1 1 1 1 \n",
       "NZEs:81710 21261 4865 539 \n",
       " ---------- AMG Summary End ---------- \n",
       "\n",
       "\u001b[2KCG iteration 1, residual = 0.15548822132496148     \n",
       "\u001b[2KCG iteration 2, residual = 0.02964104842767322     \n",
       "\u001b[2KCG iteration 3, residual = 0.007957606249164022     \n",
       "\u001b[2KCG iteration 4, residual = 0.0018523499748401757     \n",
       "\u001b[2KCG iteration 5, residual = 0.0004201448396123619     \n",
       "\u001b[2KCG iteration 6, residual = 9.78991811471367e-05     \n",
       "\u001b[2KCG iteration 7, residual = 2.218593203097147e-05     \n",
       "\u001b[2KCG iteration 8, residual = 5.110384918563826e-06     \n",
       "\u001b[2KCG iteration 9, residual = 1.230563955516376e-06     \n",
       "\u001b[2KCG iteration 10, residual = 2.9113883705555733e-07     \n",
       "\u001b[2KCG iteration 11, residual = 7.038509186326415e-08     \n"
      ]
     },
     "metadata": {},
     "output_type": "display_data"
    },
    {
     "data": {
      "application/vnd.jupyter.widget-view+json": {
       "model_id": "007674d0119443b59520eea74faf5565",
       "version_major": 2,
       "version_minor": 0
      },
      "text/plain": [
       "%px:   0%|          | 0/1 [00:00<?, ?tasks/s]"
      ]
     },
     "metadata": {},
     "output_type": "display_data"
    },
    {
     "data": {
      "text/plain": [
       "\u001b[0;31mOut[0:2]: \u001b[0m2.6351741689612016"
      ]
     },
     "metadata": {
      "after": null,
      "completed": null,
      "data": {},
      "engine_id": 0,
      "engine_uuid": "59a6b80f-3ae109339986e36263036e3b",
      "error": null,
      "execute_input": "from usrMtgStuff import setupH1Square, testAndSolve\n\nV, a, f, u = setupH1Square(maxh=0.01, nref=0)\n\nc = Preconditioner(a, \"NgsAMG.h1_scal\", ngs_amg_crs_alg=\"spw\")\na.Assemble()\nf.Assemble()\n\ntestAndSolve(a.mat, c, u.vec, f.vec)\n",
      "execute_result": {
       "data": {
        "text/plain": "2.6351741689612016"
       },
       "execution_count": 2,
       "metadata": {}
      },
      "follow": null,
      "msg_id": null,
      "outputs": [],
      "received": null,
      "started": null,
      "status": null,
      "stderr": "",
      "stdout": "Set up AMG-levels...\n map maps 11788 -> 1467, fac 0.124449\n map maps 1467 -> 205, fac 0.139741\n map maps 205 -> 31, fac 0.15122\nDone setting up AMG-levels!\n\n ---------- AMG Summary ---------- \nVertex complexity: 1.14447\nOperator complexity: 1.32634\nVertex complexity components: 1 0.124449 0.0173906 0.00262979 \nOperator complexity components: 1 0.260201 0.0595398 0.0065965 \n# vertices 11788 1467 205 31 \n# edges: 34961 4294 577 77 \n# procs: 1 1 1 1 \nNZEs:81710 21261 4865 539 \n ---------- AMG Summary End ---------- \n\n\u001b[2KCG iteration 1, residual = 0.15548822132496148     \n\u001b[2KCG iteration 2, residual = 0.02964104842767322     \n\u001b[2KCG iteration 3, residual = 0.007957606249164022     \n\u001b[2KCG iteration 4, residual = 0.0018523499748401757     \n\u001b[2KCG iteration 5, residual = 0.0004201448396123619     \n\u001b[2KCG iteration 6, residual = 9.78991811471367e-05     \n\u001b[2KCG iteration 7, residual = 2.218593203097147e-05     \n\u001b[2KCG iteration 8, residual = 5.110384918563826e-06     \n\u001b[2KCG iteration 9, residual = 1.230563955516376e-06     \n\u001b[2KCG iteration 10, residual = 2.9113883705555733e-07     \n\u001b[2KCG iteration 11, residual = 7.038509186326415e-08     \n",
      "submitted": "2025-06-10T07:22:00.076994Z"
     },
     "output_type": "display_data"
    }
   ],
   "source": [
    "%%px\n",
    "from usrMtgStuff import setupH1Square, testAndSolve\n",
    "\n",
    "V, a, f, u = setupH1Square(maxh=0.01, nref=0)\n",
    "\n",
    "c = Preconditioner(a, \"NgsAMG.h1_scal\", ngs_amg_crs_alg=\"spw\")\n",
    "a.Assemble()\n",
    "f.Assemble()\n",
    "\n",
    "testAndSolve(a.mat, c, u.vec, f.vec)"
   ]
  },
  {
   "cell_type": "code",
   "execution_count": 4,
   "id": "4bebe0e4-5cab-409f-a7a4-6799ac364e69",
   "metadata": {},
   "outputs": [
    {
     "data": {
      "text/plain": [
       "[output:0]"
      ]
     },
     "metadata": {},
     "output_type": "display_data"
    },
    {
     "data": {
      "application/vnd.jupyter.widget-view+json": {
       "model_id": "7edc121ec3cc4607b07800f0f4ed9932",
       "version_major": 2,
       "version_minor": 0
      },
      "text/plain": [
       "WebGuiWidget(layout=Layout(height='50vh', width='100%'), value={'gui_settings': {}, 'ngsolve_version': '6.2.25…"
      ]
     },
     "metadata": {
      "engine": 0
     },
     "output_type": "display_data"
    }
   ],
   "source": [
    "%%px\n",
    "Draw(u);"
   ]
  },
  {
   "cell_type": "markdown",
   "id": "827e99e1-1db8-4e91-a844-140d568d6df2",
   "metadata": {},
   "source": [
    "### Elasticity"
   ]
  },
  {
   "cell_type": "code",
   "execution_count": 6,
   "id": "82203999-7c0a-4161-8fc0-0e509a14c853",
   "metadata": {},
   "outputs": [
    {
     "data": {
      "text/plain": [
       "[stdout:0] Set up AMG-levels...\n",
       " map maps 12221 -> 828, fac 0.0677522\n",
       " map maps 828 -> 67, fac 0.0809179\n",
       " map maps 67 -> 7, fac 0.104478\n",
       "Done setting up AMG-levels!\n",
       "\n",
       " ---------- AMG Summary ---------- \n",
       "Vertex complexity: 1.07381\n",
       "Operator complexity: 1.58873\n",
       "Vertex complexity components: 1 0.0677522 0.00548237 0.000572785 \n",
       "Operator complexity components: 1 0.557661 0.0300253 0.00104204 \n",
       "# vertices 12221 828 67 7 \n",
       "# edges: 76420 4592 248 7 \n",
       "# procs: 1 1 1 1 \n",
       "NZEs:165061 23012 1239 43 \n",
       " ---------- AMG Summary End ---------- \n",
       "\n",
       "\u001b[2KCG iteration 1, residual = 0.0004162600363685324     \n",
       "\u001b[2KCG iteration 2, residual = 0.00023155095129443994     \n",
       "\u001b[2KCG iteration 3, residual = 9.063800529889062e-05     \n",
       "\u001b[2KCG iteration 4, residual = 4.271695228312529e-05     \n",
       "\u001b[2KCG iteration 5, residual = 1.812705998371707e-05     \n",
       "\u001b[2KCG iteration 6, residual = 7.115183374698533e-06     \n",
       "\u001b[2KCG iteration 7, residual = 3.013402533595782e-06     \n",
       "\u001b[2KCG iteration 8, residual = 1.355083584424406e-06     \n",
       "\u001b[2KCG iteration 9, residual = 6.3513782754501e-07     \n",
       "\u001b[2KCG iteration 10, residual = 3.4632604424834387e-07     \n",
       "\u001b[2KCG iteration 11, residual = 1.8184786312645218e-07     \n",
       "\u001b[2KCG iteration 12, residual = 7.657173134544281e-08     \n",
       "\u001b[2KCG iteration 13, residual = 3.3628342804735105e-08     \n",
       "\u001b[2KCG iteration 14, residual = 1.422310403130303e-08     \n",
       "\u001b[2KCG iteration 15, residual = 6.2557743572135095e-09     \n",
       "\u001b[2KCG iteration 16, residual = 2.8051826756096235e-09     \n",
       "\u001b[2KCG iteration 17, residual = 1.2826901785934398e-09     \n",
       "\u001b[2KCG iteration 18, residual = 5.677692195379643e-10     \n",
       "\u001b[2KCG iteration 19, residual = 2.4323229860322536e-10     \n"
      ]
     },
     "metadata": {},
     "output_type": "display_data"
    },
    {
     "data": {
      "text/plain": [
       "\u001b[0;31mOut[0:5]: \u001b[0m7.277048252624605"
      ]
     },
     "metadata": {
      "after": null,
      "completed": null,
      "data": {},
      "engine_id": 0,
      "engine_uuid": "59a6b80f-3ae109339986e36263036e3b",
      "error": null,
      "execute_input": "from usrMtgStuff import setupElastBeam, testAndSolve\n\nV, a, f, u = setupElastBeam(N=10, dim=3)\n\nc = Preconditioner(a, f\"NgsAMG.elast_{V.mesh.dim}d\", ngs_amg_crs_alg=\"mis\")\na.Assemble()\nf.Assemble()\n\ntestAndSolve(a.mat, c, u.vec, f.vec)\n",
      "execute_result": {
       "data": {
        "text/plain": "7.277048252624605"
       },
       "execution_count": 5,
       "metadata": {}
      },
      "follow": null,
      "msg_id": null,
      "outputs": [],
      "received": null,
      "started": null,
      "status": null,
      "stderr": "",
      "stdout": "Set up AMG-levels...\n map maps 12221 -> 828, fac 0.0677522\n map maps 828 -> 67, fac 0.0809179\n map maps 67 -> 7, fac 0.104478\nDone setting up AMG-levels!\n\n ---------- AMG Summary ---------- \nVertex complexity: 1.07381\nOperator complexity: 1.58873\nVertex complexity components: 1 0.0677522 0.00548237 0.000572785 \nOperator complexity components: 1 0.557661 0.0300253 0.00104204 \n# vertices 12221 828 67 7 \n# edges: 76420 4592 248 7 \n# procs: 1 1 1 1 \nNZEs:165061 23012 1239 43 \n ---------- AMG Summary End ---------- \n\n\u001b[2KCG iteration 1, residual = 0.0004162600363685324     \n\u001b[2KCG iteration 2, residual = 0.00023155095129443994     \n\u001b[2KCG iteration 3, residual = 9.063800529889062e-05     \n\u001b[2KCG iteration 4, residual = 4.271695228312529e-05     \n\u001b[2KCG iteration 5, residual = 1.812705998371707e-05     \n\u001b[2KCG iteration 6, residual = 7.115183374698533e-06     \n\u001b[2KCG iteration 7, residual = 3.013402533595782e-06     \n\u001b[2KCG iteration 8, residual = 1.355083584424406e-06     \n\u001b[2KCG iteration 9, residual = 6.3513782754501e-07     \n\u001b[2KCG iteration 10, residual = 3.4632604424834387e-07     \n\u001b[2KCG iteration 11, residual = 1.8184786312645218e-07     \n\u001b[2KCG iteration 12, residual = 7.657173134544281e-08     \n\u001b[2KCG iteration 13, residual = 3.3628342804735105e-08     \n\u001b[2KCG iteration 14, residual = 1.422310403130303e-08     \n\u001b[2KCG iteration 15, residual = 6.2557743572135095e-09     \n\u001b[2KCG iteration 16, residual = 2.8051826756096235e-09     \n\u001b[2KCG iteration 17, residual = 1.2826901785934398e-09     \n\u001b[2KCG iteration 18, residual = 5.677692195379643e-10     \n\u001b[2KCG iteration 19, residual = 2.4323229860322536e-10     \n",
      "submitted": "2025-06-10T07:22:27.479059Z"
     },
     "output_type": "display_data"
    }
   ],
   "source": [
    "%%px\n",
    "from usrMtgStuff import setupElastBeam, testAndSolve\n",
    "\n",
    "V, a, f, u = setupElastBeam(N=10, dim=3)\n",
    "\n",
    "c = Preconditioner(a, f\"NgsAMG.elast_{V.mesh.dim}d\", ngs_amg_crs_alg=\"mis\")\n",
    "a.Assemble()\n",
    "f.Assemble()\n",
    "\n",
    "testAndSolve(a.mat, c, u.vec, f.vec)"
   ]
  },
  {
   "cell_type": "code",
   "execution_count": 9,
   "id": "43e425d0-f6f8-45eb-8d8f-c64af7ee72da",
   "metadata": {},
   "outputs": [
    {
     "data": {
      "text/plain": [
       "[output:0]"
      ]
     },
     "metadata": {},
     "output_type": "display_data"
    },
    {
     "data": {
      "application/vnd.jupyter.widget-view+json": {
       "model_id": "82ba2ed783aa4c2e84856c5420c0948f",
       "version_major": 2,
       "version_minor": 0
      },
      "text/plain": [
       "WebGuiWidget(layout=Layout(height='50vh', width='100%'), value={'gui_settings': {}, 'ngsolve_version': '6.2.25…"
      ]
     },
     "metadata": {
      "engine": 0
     },
     "output_type": "display_data"
    },
    {
     "data": {
      "text/plain": [
       "\u001b[0;31mOut[0:7]: \u001b[0mBaseWebGuiScene"
      ]
     },
     "metadata": {
      "after": [],
      "completed": "2025-06-10T07:22:43.910001Z",
      "data": {},
      "engine_id": 0,
      "engine_uuid": "59a6b80f-3ae109339986e36263036e3b",
      "error": null,
      "execute_input": "Draw(u, deformation=True)\n",
      "execute_result": {
       "data": {
        "text/plain": "BaseWebGuiScene"
       },
       "execution_count": 7,
       "metadata": {}
      },
      "follow": [],
      "is_broadcast": false,
      "is_coalescing": false,
      "msg_id": "6652855c-a04605f7c6ab11e1520c6d46_2349759_7",
      "outputs": [
       {
        "data": {
         "application/vnd.jupyter.widget-view+json": {
          "model_id": "82ba2ed783aa4c2e84856c5420c0948f",
          "version_major": 2,
          "version_minor": 0
         },
         "text/plain": "WebGuiWidget(layout=Layout(height='50vh', width='100%'), value={'gui_settings': {}, 'ngsolve_version': '6.2.25…"
        },
        "metadata": {},
        "transient": {}
       }
      ],
      "received": "2025-06-10T07:22:43.914685Z",
      "started": "2025-06-10T07:22:42.911120Z",
      "status": "ok",
      "stderr": "",
      "stdout": "",
      "submitted": "2025-06-10T07:22:42.909062Z"
     },
     "output_type": "display_data"
    }
   ],
   "source": [
    "%%px\n",
    "Draw(u, deformation=True)"
   ]
  },
  {
   "cell_type": "markdown",
   "id": "0934dae9-2082-4361-9c2a-ef0e2c14486e",
   "metadata": {},
   "source": [
    "No silver bullet - similar limitations as PETSc, BoomerAMG, etc"
   ]
  },
  {
   "cell_type": "code",
   "execution_count": 8,
   "id": "0c49dd55-37ea-491a-a91a-68ca53211aa9",
   "metadata": {},
   "outputs": [
    {
     "data": {
      "text/plain": [
       "[stdout:0] Set up AMG-levels...\n",
       " map maps 110011 -> 13750, fac 0.124988\n",
       " map maps 13750 -> 1727, fac 0.1256\n",
       " map maps 1727 -> 220, fac 0.127389\n",
       " map maps 220 -> 28, fac 0.127273\n",
       "Done setting up AMG-levels!\n",
       "\n",
       " ---------- AMG Summary ---------- \n",
       "Vertex complexity: 1.14294\n",
       "Operator complexity: 1.45023\n",
       "Vertex complexity components: 1 0.124988 0.0156984 0.0019998 0.00025452 \n",
       "Operator complexity components: 1 0.358098 0.078571 0.0123344 0.00122666 \n",
       "# vertices 110011 13750 1727 220 28 \n",
       "# edges: 310010 38729 4846 599 60 \n",
       "# procs: 1 1 1 1 1 \n",
       "NZEs:730031 116188 25493 4002 398 \n",
       " ---------- AMG Summary End ---------- \n",
       "\n"
      ]
     },
     "metadata": {},
     "output_type": "display_data"
    },
    {
     "data": {
      "application/vnd.jupyter.widget-view+json": {
       "model_id": "1c5549e686174a6aa29ea261e67b95b0",
       "version_major": 2,
       "version_minor": 0
      },
      "text/plain": [
       "%px:   0%|          | 0/1 [00:00<?, ?tasks/s]"
      ]
     },
     "metadata": {},
     "output_type": "display_data"
    },
    {
     "name": "stderr",
     "output_type": "stream",
     "text": [
      "[0:execute]\n",
      "\u001b[31m---------------------------------------------------------------------------\u001b[39m\n",
      "\u001b[31mAttributeError\u001b[39m                            Traceback (most recent call last)\n",
      "\u001b[36mCell\u001b[39m\u001b[36m \u001b[39m\u001b[32mIn[6]\u001b[39m\u001b[32m, line 12\u001b[39m\n",
      "\u001b[32m      9\u001b[39m a.Assemble()\n",
      "\u001b[32m     10\u001b[39m f.Assemble()\n",
      "\u001b[32m---> \u001b[39m\u001b[32m12\u001b[39m \u001b[43mtestAndSolve\u001b[49m\u001b[43m(\u001b[49m\u001b[43ma\u001b[49m\u001b[43m.\u001b[49m\u001b[43mmat\u001b[49m\u001b[43m,\u001b[49m\u001b[43m \u001b[49m\u001b[43mc\u001b[49m\u001b[43m,\u001b[49m\u001b[43m \u001b[49m\u001b[43mu\u001b[49m\u001b[43m,\u001b[49m\u001b[43m \u001b[49m\u001b[43mf\u001b[49m\u001b[43m.\u001b[49m\u001b[43mvec\u001b[49m\u001b[43m)\u001b[49m\n",
      "\n",
      "\u001b[36mFile \u001b[39m\u001b[32m~/ngsolve/usrMtg/presentations/usrMtg2025/usrMtgStuff.py:117\u001b[39m, in \u001b[36mtestAndSolve\u001b[39m\u001b[34m(A, c, u, f, doTest, tol)\u001b[39m\n",
      "\u001b[32m    114\u001b[39m MPI.COMM_WORLD.Barrier()\n",
      "\u001b[32m    115\u001b[39m t.Start()\n",
      "\u001b[32m--> \u001b[39m\u001b[32m117\u001b[39m \u001b[43mu\u001b[49m\u001b[43m.\u001b[49m\u001b[43mdata\u001b[49m = sol * f\n",
      "\u001b[32m    119\u001b[39m MPI.COMM_WORLD.Barrier()\n",
      "\u001b[32m    120\u001b[39m t.Stop()\n",
      "\n",
      "\u001b[31mAttributeError\u001b[39m: property of 'GridFunction' object has no setter\n"
     ]
    },
    {
     "ename": "AlreadyDisplayedError",
     "evalue": "1 errors",
     "output_type": "error",
     "traceback": [
      "1 errors"
     ]
    }
   ],
   "source": [
    "%%px\n",
    "from usrMtgStuff import setupElastBeam, testAndSolve\n",
    "\n",
    "V, a, f, u = setupElastBeam(N=10, aRatio=1000, dim=2)\n",
    "\n",
    "c = Preconditioner(a, f\"NgsAMG.elast_{V.mesh.dim}d\", ngs_amg_crs_alg=\"spw\", ngs_amg_sm_type=\"bgs\", ngs_amg_sp_improve_its=2, ngs_amg_sp_omega=0.8)\n",
    "# c = Preconditioner(a, f\"NgsAMG.elast_{V.mesh.dim}d\", ngs_amg_crs_alg=\"mis\", ngs_amg_on_dofs=\"select\", ngs_amg_subset= \"nodalp2\", ngs_amg_sm_type=\"bgs\")\n",
    "# c = Preconditioner(a, f\"NgsAMG.elast_{V.mesh.dim}d\", ngs_amg_crs_alg=\"mis\", ngs_amg_lo = False, ngs_amg_dof_ordering=\"p2Emb\", ngs_amg_smooth_after_emb=False, ngs_amg_sp_improve_its=0, ngs_amg_sm_type=\"bgs\")\n",
    "\n",
    "a.Assemble()\n",
    "f.Assemble()\n",
    "\n",
    "testAndSolve(a.mat, c, u, f.vec)"
   ]
  },
  {
   "cell_type": "raw",
   "id": "e7ff5dc0-bfef-43d2-b65e-aa51a3eafb3a",
   "metadata": {},
   "source": []
  },
  {
   "cell_type": "code",
   "execution_count": null,
   "id": "42568ca7-7b8c-4a1b-bd58-2f7ec953d51a",
   "metadata": {},
   "outputs": [],
   "source": [
    "%%px\n",
    "from usrMtgStuff import setupElastBeam, testAndSolve\n",
    "\n",
    "V, a, f, u = setupElastBeam(N=10, elStretch=5, dim=3, order=2, nodalP2=True)\n",
    "\n",
    "# c = Preconditioner(a, f\"NgsAMG.elast_{V.mesh.dim}d\", ngs_amg_crs_alg=\"mis\")\n",
    "# c = Preconditioner(a, f\"NgsAMG.elast_{V.mesh.dim}d\", ngs_amg_crs_alg=\"mis\", ngs_amg_on_dofs=\"select\", ngs_amg_subset= \"nodalp2\", ngs_amg_sm_type=\"bgs\")\n",
    "c = Preconditioner(a, f\"NgsAMG.elast_{V.mesh.dim}d\", ngs_amg_crs_alg=\"mis\", ngs_amg_lo = False, ngs_amg_dof_ordering=\"p2Emb\", ngs_amg_smooth_after_emb=False, ngs_amg_sp_improve_its=0, ngs_amg_sm_type=\"bgs\")\n",
    "\n",
    "a.Assemble()\n",
    "f.Assemble()\n",
    "\n",
    "testAndSolve(a.mat, c, u.vec, f.vec)\n",
    "\n",
    "print(f\"\\n\\n\\ty-defo = {u(1.0,0.0)[1]} !\")"
   ]
  },
  {
   "cell_type": "markdown",
   "id": "dcc3913a-f537-48bf-b4f6-d6a08a8a9da7",
   "metadata": {},
   "source": [
    "### HDiv\n",
    "\n",
    "Coarsens dual graph, maintains \"loops\" (i.e. vertices/edges in 2d/3d), robust in $\\left<\\nabla\\cdot,\\nabla\\cdot\\right>$ penalty parameter"
   ]
  },
  {
   "cell_type": "code",
   "execution_count": null,
   "id": "705656a9-53af-4c77-87e7-bbb7b57ba93a",
   "metadata": {},
   "outputs": [],
   "source": [
    "%%px\n",
    "def StokesHDGDiscretization(mesh, order, inlet, wall, outlet, hodivfree, proj_jumps, div_div_pen, with_pressure, V, Vhat, nu, diri, elint = ('', '', '', True, True, None, True, None, None, 1, 'wall|inlet', False)):\n",
    "    V1 = HDiv(mesh, order, diri, hodivfree, False, **('order', 'dirichlet', 'hodivfree', 'RT'))\n",
    "    V2 = TangentialFacetFESpace(mesh, order, diri, proj_jumps, **('order', 'dirichlet', 'highest_order_dc'))\n",
    "    V = V1 * V2\n",
    "    Q = L2(mesh, 0 if hodivfree else order - 1, **('order',))\n",
    "    (u, uhat) = ()\n",
    "    (v, vhat) = V.TnT()\n",
    "    (p, q) = Q.TnT()\n",
    "    n = specialcf.normal(mesh.dim)\n",
    "    h = specialcf.mesh_size\n",
    "    \n",
    "    def tang(vec = None):\n",
    "        return vec - vec * n * n\n",
    "\n",
    "    alpha = 4\n",
    "    dS = dx(True, **('element_boundary',))\n",
    "    a = BilinearForm(V, elint, **('eliminate_internal',))\n",
    "    a += nu * InnerProduct(Grad(u), Grad(v)) * dx\n",
    "    a += nu * InnerProduct(Grad(u) * n, tang(vhat - v)) * dS\n",
    "    a += nu * InnerProduct(Grad(v) * n, tang(uhat - u)) * dS\n",
    "    a += (nu * alpha * order * order / h) * InnerProduct(tang(vhat - v), tang(uhat - u)) * dS\n",
    "    if div_div_pen is not None:\n",
    "        aPen = BilinearForm(V, elint, **('eliminate_internal',))\n",
    "        aPen += nu * InnerProduct(Grad(u), Grad(v)) * dx\n",
    "        aPen += nu * InnerProduct(Grad(u) * n, tang(vhat - v)) * dS\n",
    "        aPen += nu * InnerProduct(Grad(v) * n, tang(uhat - u)) * dS\n",
    "        aPen += (nu * alpha * order * order / h) * InnerProduct(tang(vhat - v), tang(uhat - u)) * dS\n",
    "        aPen += div_div_pen * nu * InnerProduct(div(u), div(v)) * dx\n",
    "    else:\n",
    "        aPen = a\n",
    "    b = BilinearForm(V, Q, **('trialspace', 'testspace'))\n",
    "    b += -div(u) * q * dx\n",
    "    return (V, Q, a, b, aPen)"
   ]
  },
  {
   "cell_type": "code",
   "execution_count": null,
   "id": "d3e86750-3f11-46c9-9fd9-96bdfd468265",
   "metadata": {},
   "outputs": [],
   "source": [
    "%%px\n",
    "from usrMtgStuff import GetValve\n",
    "\n",
    "dim = 2\n",
    "\n",
    "valve = GetValve(1, dim, 0.5, 25, 1, 180, 6.4, 7, 5, True, **('N', 'dim', 'R', 'alpha', 'Winlet', 'beta', 'L1', 'L2', 'Linlet', 'closevalve'))\n",
    "mesh = Mesh(OCCGeometry(valve, dim, **('dim',)).GenerateMesh(0.5, **('maxh',)))\n",
    "mesh.Curve(3)\n",
    "diri = 'wall'\n",
    "outlet = None\n",
    "uin = None\n",
    "f_vol = CF((1, 0))\n",
    "\n",
    "(V, Q, a, b, aPen) = StokesHDGDiscretization(mesh, order=order, diri=diri, nu=nu, div_div_pen=div_div_pen)\n",
    "\n",
    "amg_cl = NgsAMG.stokes_hdiv_gg_2d if mesh.ngmesh.dim == 2 else NgsAMG.stokes_hdiv_gg_3d\n",
    "\n",
    "pc_opts = {\n",
    "    'ngs_amg_max_levels': 40,\n",
    "    'ngs_amg_max_coarse_size': 1,\n",
    "    'ngs_amg_clev': 'inv',\n",
    "    'ngs_amg_log_level': 'extra',\n",
    "    'ngs_amg_log_level_pc': 'extra',\n",
    "    'ngs_amg_do_test': True,\n",
    "    'ngs_amg_mg_cycle': 'V',\n",
    "    'presVecs': 'P1',\n",
    "    \"ngs_amg_pres_vecs\": [\"RTZ\", \"P0\", \"P1\"][0]\n",
    "}\n",
    "\n"
   ]
  },
  {
   "cell_type": "code",
   "execution_count": null,
   "id": "a5f54ea2-4756-4ec1-843e-7b22d49717fd",
   "metadata": {},
   "outputs": [],
   "source": []
  }
 ],
 "metadata": {
  "kernelspec": {
   "display_name": "Python 3 (ipykernel)",
   "language": "python",
   "name": "python3"
  },
  "language_info": {
   "codemirror_mode": {
    "name": "ipython",
    "version": 3
   },
   "file_extension": ".py",
   "mimetype": "text/x-python",
   "name": "python",
   "nbconvert_exporter": "python",
   "pygments_lexer": "ipython3",
   "version": "3.11.13"
  }
 },
 "nbformat": 4,
 "nbformat_minor": 5
}
