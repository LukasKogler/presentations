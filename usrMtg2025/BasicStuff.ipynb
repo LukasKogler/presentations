{
 "cells": [
  {
   "cell_type": "code",
   "execution_count": null,
   "id": "38607001-ad4c-4603-9311-322b0eb717ad",
   "metadata": {},
   "outputs": [],
   "source": [
    "from ngsolve import *\n",
    "from ngsolve.webgui import Draw\n",
    "import ngsolve as ngs\n",
    "import NgsAMG as amg"
   ]
  },
  {
   "cell_type": "markdown",
   "id": "544684a1-a775-4fca-95ad-5afa2fddbd2f",
   "metadata": {},
   "source": [
    "### H1\n",
    "\n",
    "It works, I guess."
   ]
  },
  {
   "cell_type": "code",
   "execution_count": null,
   "id": "4602ccf2-6e10-49e5-9d71-6aa250875b27",
   "metadata": {},
   "outputs": [],
   "source": [
    "from usrMtgStuff import setupH1Square, testAndSolve\n",
    "\n",
    "V, a, f, u = setupH1Square(maxh=0.01, nref=0)\n",
    "\n",
    "c = Preconditioner(a, \"NgsAMG.h1_scal\", ngs_amg_crs_alg=\"spw\")\n",
    "a.Assemble()\n",
    "f.Assemble()\n",
    "\n",
    "testAndSolve(a.mat, c, u, f.vec)"
   ]
  },
  {
   "cell_type": "code",
   "execution_count": null,
   "id": "4bebe0e4-5cab-409f-a7a4-6799ac364e69",
   "metadata": {},
   "outputs": [],
   "source": [
    "# Draw(u);\n",
    "# for t in Timers():\n",
    "#     if t[\"time\"] > 0.05:\n",
    "#       print(f\"{t['name']}: {t['time']}\")"
   ]
  },
  {
   "cell_type": "markdown",
   "id": "827e99e1-1db8-4e91-a844-140d568d6df2",
   "metadata": {},
   "source": [
    "### Elasticity"
   ]
  },
  {
   "cell_type": "code",
   "execution_count": null,
   "id": "82203999-7c0a-4161-8fc0-0e509a14c853",
   "metadata": {},
   "outputs": [],
   "source": [
    "from usrMtgStuff import setupElastBeam, testAndSolve\n",
    "\n",
    "V, a, f, u = setupElastBeam(N=10, dim=3)\n",
    "\n",
    "c = Preconditioner(a, f\"NgsAMG.elast_{V.mesh.dim}d\", ngs_amg_crs_alg=\"mis\")\n",
    "a.Assemble()\n",
    "f.Assemble()\n",
    "\n",
    "testAndSolve(a.mat, c, u, f.vec)"
   ]
  },
  {
   "cell_type": "code",
   "execution_count": null,
   "id": "43e425d0-f6f8-45eb-8d8f-c64af7ee72da",
   "metadata": {},
   "outputs": [],
   "source": [
    "Draw(u, deformation=True)"
   ]
  },
  {
   "cell_type": "markdown",
   "id": "0934dae9-2082-4361-9c2a-ef0e2c14486e",
   "metadata": {},
   "source": [
    "No silver bullet - similar limitations as PETSc, BoomerAMG, etc"
   ]
  },
  {
   "cell_type": "code",
   "execution_count": null,
   "id": "0c49dd55-37ea-491a-a91a-68ca53211aa9",
   "metadata": {},
   "outputs": [],
   "source": [
    "from usrMtgStuff import setupElastBeam, testAndSolve\n",
    "\n",
    "V, a, f, u = setupElastBeam(N=10, aRatio=1000, dim=2)\n",
    "\n",
    "c = Preconditioner(a, f\"NgsAMG.elast_{V.mesh.dim}d\", ngs_amg_crs_alg=\"spw\", ngs_amg_sm_type=\"bgs\", ngs_amg_sp_improve_its=2, ngs_amg_sp_omega=0.8)\n",
    "# c = Preconditioner(a, f\"NgsAMG.elast_{V.mesh.dim}d\", ngs_amg_crs_alg=\"mis\", ngs_amg_on_dofs=\"select\", ngs_amg_subset= \"nodalp2\", ngs_amg_sm_type=\"bgs\")\n",
    "# c = Preconditioner(a, f\"NgsAMG.elast_{V.mesh.dim}d\", ngs_amg_crs_alg=\"mis\", ngs_amg_lo = False, ngs_amg_dof_ordering=\"p2Emb\", ngs_amg_smooth_after_emb=False, ngs_amg_sp_improve_its=0, ngs_amg_sm_type=\"bgs\")\n",
    "\n",
    "a.Assemble()\n",
    "f.Assemble()\n",
    "\n",
    "testAndSolve(a.mat, c, u, f.vec)"
   ]
  },
  {
   "cell_type": "raw",
   "id": "e7ff5dc0-bfef-43d2-b65e-aa51a3eafb3a",
   "metadata": {},
   "source": []
  },
  {
   "cell_type": "code",
   "execution_count": null,
   "id": "42568ca7-7b8c-4a1b-bd58-2f7ec953d51a",
   "metadata": {},
   "outputs": [],
   "source": [
    "from usrMtgStuff import setupElastBeam, testAndSolve\n",
    "\n",
    "V, a, f, u = setupElastBeam(N=10, elStretch=5, dim=3, order=2, nodalP2=True)\n",
    "\n",
    "# c = Preconditioner(a, f\"NgsAMG.elast_{V.mesh.dim}d\", ngs_amg_crs_alg=\"mis\")\n",
    "# c = Preconditioner(a, f\"NgsAMG.elast_{V.mesh.dim}d\", ngs_amg_crs_alg=\"mis\", ngs_amg_on_dofs=\"select\", ngs_amg_subset= \"nodalp2\", ngs_amg_sm_type=\"bgs\")\n",
    "c = Preconditioner(a, f\"NgsAMG.elast_{V.mesh.dim}d\", ngs_amg_crs_alg=\"mis\", ngs_amg_lo = False, ngs_amg_dof_ordering=\"p2Emb\", ngs_amg_smooth_after_emb=False, ngs_amg_sp_improve_its=0, ngs_amg_sm_type=\"bgs\")\n",
    "\n",
    "a.Assemble()\n",
    "f.Assemble()\n",
    "\n",
    "testAndSolve(a.mat, c, u.vec, f.vec)\n",
    "\n",
    "print(f\"\\n\\n\\ty-defo = {u(1.0,0.0)[1]} !\")"
   ]
  },
  {
   "cell_type": "markdown",
   "id": "dcc3913a-f537-48bf-b4f6-d6a08a8a9da7",
   "metadata": {},
   "source": [
    "### HDiv\n",
    "\n",
    "Coarsens dual graph, maintains \"loops\" (i.e. vertices/edges in 2d/3d), robust in $\\left<\\nabla\\cdot,\\nabla\\cdot\\right>$ penalty parameter"
   ]
  },
  {
   "cell_type": "code",
   "execution_count": null,
   "id": "705656a9-53af-4c77-87e7-bbb7b57ba93a",
   "metadata": {},
   "outputs": [],
   "source": [
    "def StokesHDGDiscretization(mesh, order, inlet, wall, outlet, hodivfree, proj_jumps, div_div_pen, with_pressure, V, Vhat, nu, diri, elint = ('', '', '', True, True, None, True, None, None, 1, 'wall|inlet', False)):\n",
    "    V1 = HDiv(mesh, order, diri, hodivfree, False, **('order', 'dirichlet', 'hodivfree', 'RT'))\n",
    "    V2 = TangentialFacetFESpace(mesh, order, diri, proj_jumps, **('order', 'dirichlet', 'highest_order_dc'))\n",
    "    V = V1 * V2\n",
    "    Q = L2(mesh, 0 if hodivfree else order - 1, **('order',))\n",
    "    (u, uhat) = ()\n",
    "    (v, vhat) = V.TnT()\n",
    "    (p, q) = Q.TnT()\n",
    "    n = specialcf.normal(mesh.dim)\n",
    "    h = specialcf.mesh_size\n",
    "    \n",
    "    def tang(vec = None):\n",
    "        return vec - vec * n * n\n",
    "\n",
    "    alpha = 4\n",
    "    dS = dx(True, **('element_boundary',))\n",
    "    a = BilinearForm(V, elint, **('eliminate_internal',))\n",
    "    a += nu * InnerProduct(Grad(u), Grad(v)) * dx\n",
    "    a += nu * InnerProduct(Grad(u) * n, tang(vhat - v)) * dS\n",
    "    a += nu * InnerProduct(Grad(v) * n, tang(uhat - u)) * dS\n",
    "    a += (nu * alpha * order * order / h) * InnerProduct(tang(vhat - v), tang(uhat - u)) * dS\n",
    "    if div_div_pen is not None:\n",
    "        aPen = BilinearForm(V, elint, **('eliminate_internal',))\n",
    "        aPen += nu * InnerProduct(Grad(u), Grad(v)) * dx\n",
    "        aPen += nu * InnerProduct(Grad(u) * n, tang(vhat - v)) * dS\n",
    "        aPen += nu * InnerProduct(Grad(v) * n, tang(uhat - u)) * dS\n",
    "        aPen += (nu * alpha * order * order / h) * InnerProduct(tang(vhat - v), tang(uhat - u)) * dS\n",
    "        aPen += div_div_pen * nu * InnerProduct(div(u), div(v)) * dx\n",
    "    else:\n",
    "        aPen = a\n",
    "    b = BilinearForm(V, Q, **('trialspace', 'testspace'))\n",
    "    b += -div(u) * q * dx\n",
    "    return (V, Q, a, b, aPen)"
   ]
  },
  {
   "cell_type": "code",
   "execution_count": null,
   "id": "d3e86750-3f11-46c9-9fd9-96bdfd468265",
   "metadata": {},
   "outputs": [],
   "source": [
    "from usrMtgStuff import GetValve\n",
    "\n",
    "dim = 2\n",
    "\n",
    "valve = GetValve(1, dim, 0.5, 25, 1, 180, 6.4, 7, 5, True, **('N', 'dim', 'R', 'alpha', 'Winlet', 'beta', 'L1', 'L2', 'Linlet', 'closevalve'))\n",
    "mesh = Mesh(OCCGeometry(valve, dim, **('dim',)).GenerateMesh(0.5, **('maxh',)))\n",
    "mesh.Curve(3)\n",
    "diri = 'wall'\n",
    "outlet = None\n",
    "uin = None\n",
    "f_vol = CF((1, 0))\n",
    "\n",
    "(V, Q, a, b, aPen) = StokesHDGDiscretization(mesh, order=order, diri=diri, nu=nu, div_div_pen=div_div_pen)\n",
    "\n",
    "amg_cl = NgsAMG.stokes_hdiv_gg_2d if mesh.ngmesh.dim == 2 else NgsAMG.stokes_hdiv_gg_3d\n",
    "\n",
    "pc_opts = {\n",
    "    'ngs_amg_max_levels': 40,\n",
    "    'ngs_amg_max_coarse_size': 1,\n",
    "    'ngs_amg_clev': 'inv',\n",
    "    'ngs_amg_log_level': 'extra',\n",
    "    'ngs_amg_log_level_pc': 'extra',\n",
    "    'ngs_amg_do_test': True,\n",
    "    'ngs_amg_mg_cycle': 'V',\n",
    "    'presVecs': 'P1',\n",
    "    \"ngs_amg_pres_vecs\": [\"RTZ\", \"P0\", \"P1\"][0]\n",
    "}\n",
    "\n"
   ]
  },
  {
   "cell_type": "markdown",
   "id": "6e3d9af6-9a0f-4672-93ce-6fdf4945e103",
   "metadata": {},
   "source": [
    "### Smoothers\n",
    "\n",
    "Various Gauss-Seidel-type MPI-parallel, multiplicative smoothers that overlap MPI and communication:\n",
    "* Regular Gauss-Seidel\n",
    "* Block-Gauss-Seidel\n",
    "* Hybrid-Block-Gauss-Seidel (quite fast for high-order FEM matrices)\n",
    "\n",
    "Limitation for Block-smoothers in parallel:\n",
    " * Blocks may not cross MPI subdomain boundaries\n",
    " * Each DOF is owned by the master rank, it will only be included in blocks on that rank\n",
    "\n",
    "Some examples:\n",
    " * Works: blocks of all cell/face/edge/vertex-DOFs\n",
    " * Does not work: face/edge-patch, facet-plus-cells\n",
    " * Does not work as expected: element, i.e. cell-plus-face-plus-edge-plus-vertex; Master of each DOF will own it, no update from other ranks!\n",
    " "
   ]
  },
  {
   "cell_type": "code",
   "execution_count": null,
   "id": "afc02ac6-8c22-4a4a-8f72-6fc392dde7f3",
   "metadata": {},
   "outputs": [],
   "source": []
  },
  {
   "cell_type": "code",
   "execution_count": null,
   "id": "18a77932-8de5-423e-bebe-116cc16599ba",
   "metadata": {},
   "outputs": [],
   "source": []
  }
 ],
 "metadata": {
  "kernelspec": {
   "display_name": "Python 3 (ipykernel)",
   "language": "python",
   "name": "python3"
  },
  "language_info": {
   "codemirror_mode": {
    "name": "ipython",
    "version": 3
   },
   "file_extension": ".py",
   "mimetype": "text/x-python",
   "name": "python",
   "nbconvert_exporter": "python",
   "pygments_lexer": "ipython3",
   "version": "3.11.13"
  }
 },
 "nbformat": 4,
 "nbformat_minor": 5
}
