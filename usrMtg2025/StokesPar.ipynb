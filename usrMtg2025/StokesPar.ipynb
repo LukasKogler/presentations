{
 "cells": [
  {
   "cell_type": "code",
   "execution_count": 1,
   "id": "9e3137dc-f8b9-4377-89ec-dc7de1c38801",
   "metadata": {},
   "outputs": [
    {
     "name": "stdout",
     "output_type": "stream",
     "text": [
      "Starting 1 engines with <class 'ipyparallel.cluster.launcher.MPIEngineSetLauncher'>\n"
     ]
    },
    {
     "data": {
      "application/vnd.jupyter.widget-view+json": {
       "model_id": "c8f9a222ef7b48228ae3fb9eaabc1393",
       "version_major": 2,
       "version_minor": 0
      },
      "text/plain": [
       "  0%|          | 0/1 [00:00<?, ?engine/s]"
      ]
     },
     "metadata": {},
     "output_type": "display_data"
    },
    {
     "data": {
      "text/plain": [
       "[0]"
      ]
     },
     "execution_count": 1,
     "metadata": {},
     "output_type": "execute_result"
    }
   ],
   "source": [
    "import ipyparallel as ipp\n",
    "\n",
    "from ipyparallel import Cluster\n",
    "cluster = await Cluster(engines=\"mpi\", profile=\"myprofile\").start_and_connect(n=1, activate=True)\n",
    "cluster.ids"
   ]
  },
  {
   "cell_type": "code",
   "execution_count": 2,
   "id": "aecd0def-88a9-4110-ba09-85e86b3f3c2f",
   "metadata": {},
   "outputs": [],
   "source": [
    "%%px\n",
    "from ipywidgets import interact, interactive, fixed, interact_manual\n",
    "import ipywidgets as widgets\n",
    "from ngsolve import *\n",
    "from ngsolve.webgui import Draw\n",
    "import ngsolve as ngs\n",
    "import NgsAMG as amg"
   ]
  },
  {
   "cell_type": "markdown",
   "id": "618991df-a2c4-4971-8aa1-76c6db2d9a87",
   "metadata": {},
   "source": [
    "## HDiv AMG\n",
    "\n",
    "Non-standard monolithic AMG method for Stokes, robust in domain shape and div-div penaly.\n",
    "\n",
    "Similar to [ParELAG](https://github.com/LLNL/parelag), with simpler caorsening (*), fast smoothers, some tricks for parallel.\n",
    "\n",
    "\n",
    "Should just work with H($\\operatorname{div}$)-HDG/MCS, includes treatment for tangential trace.\n",
    "\n",
    "\n",
    "\n",
    "(*) see also \"Algebraic multigrid for k‐form Laplacians\" (Luke Olson, Nathan Bell)."
   ]
  },
  {
   "cell_type": "code",
   "execution_count": 3,
   "id": "a594338e-acc4-438b-88b3-cc2eebf48548",
   "metadata": {
    "scrolled": true
   },
   "outputs": [
    {
     "data": {
      "application/vnd.jupyter.widget-view+json": {
       "model_id": "9f538089347147eba6bb1c91f5e9c966",
       "version_major": 2,
       "version_minor": 0
      },
      "text/plain": [
       "%px:   0%|          | 0/1 [00:00<?, ?tasks/s]"
      ]
     },
     "metadata": {},
     "output_type": "display_data"
    },
    {
     "data": {
      "text/plain": [
       "[stdout:0] \n",
       " ---------- AMG Summary ---------- \n",
       "Vertex complexity: 1.46248\n",
       "Operator complexity: 1.87371\n",
       "Vertex complexity components: 1 0.366441 0.0796095 0.0131744 0.00247215 0.000782326 \n",
       "Operator complexity components: 1 0.543797 0.288023 0.038348 0.00260423 0.000941063 \n",
       "# vertices 31956 11710 2544 421 79 25 \n",
       "# edges: 49003 24992 6435 860 98 33 \n",
       "# procs: 1 1 1 1 1 1 \n",
       "NZEs:6010225 3268340 1731084 230480 15652 5656 \n",
       " ---------- AMG Summary End ---------- \n",
       "\n",
       "\u001b[2KCG iteration 1, residual = 150.67262613908673     \n",
       "\u001b[2KCG iteration 2, residual = 13.53810988304646     \n",
       "\u001b[2KCG iteration 3, residual = 2.1364644323978874     \n",
       "\u001b[2KCG iteration 4, residual = 0.30954273481512495     \n",
       "\u001b[2KCG iteration 5, residual = 0.06551530271249087     \n",
       "\u001b[2KCG iteration 6, residual = 0.04253833390641992     \n",
       "\u001b[2KCG iteration 7, residual = 0.022008357149343204     \n",
       "\u001b[2KCG iteration 8, residual = 0.01493073642402337     \n",
       "\u001b[2KCG iteration 9, residual = 0.009203481667826306     \n",
       "\u001b[2KCG iteration 10, residual = 0.0061356910511886145     \n",
       "\u001b[2KCG iteration 11, residual = 0.0034925172498262123     \n",
       "\u001b[2KCG iteration 12, residual = 0.0019182276511785622     \n",
       "\u001b[2KCG iteration 13, residual = 0.0010780747274700925     \n",
       "\u001b[2KCG iteration 14, residual = 0.0006235685917832966     \n",
       "\u001b[2KCG iteration 15, residual = 0.0003637980818005795     \n",
       "\u001b[2KCG iteration 16, residual = 0.00022184232687164293     \n",
       "\u001b[2KCG iteration 17, residual = 0.00013328790600946336     \n",
       "\u001b[2KCG iteration 18, residual = 9.219835518278134e-05     \n",
       "\u001b[2KCG iteration 19, residual = 5.6275595285127594e-05     \n",
       "\u001b[2KCG iteration 20, residual = 3.770225832496463e-05     \n",
       "\u001b[2KCG iteration 21, residual = 2.1674643902654445e-05     \n",
       "\u001b[2KCG iteration 22, residual = 1.4099099586594913e-05     \n",
       "\u001b[2KCG iteration 23, residual = 7.923826783502691e-06     \n",
       "\u001b[2KCG iteration 24, residual = 5.142659092540842e-06     \n",
       "\u001b[2KCG iteration 25, residual = 2.8855157097526094e-06     \n",
       "\u001b[2KCG iteration 26, residual = 1.6472875867970918e-06     \n",
       "\u001b[2KCG iteration 27, residual = 9.308498851710784e-07     \n"
      ]
     },
     "metadata": {},
     "output_type": "display_data"
    },
    {
     "data": {
      "text/plain": [
       "[output:0]"
      ]
     },
     "metadata": {},
     "output_type": "display_data"
    },
    {
     "data": {
      "application/vnd.jupyter.widget-view+json": {
       "model_id": "b17b88a8344743c8a46e56037002013e",
       "version_major": 2,
       "version_minor": 0
      },
      "text/plain": [
       "WebGuiWidget(layout=Layout(height='50vh', width='100%'), value={'gui_settings': {}, 'ngsolve_version': '6.2.25…"
      ]
     },
     "metadata": {
      "engine": 0
     },
     "output_type": "display_data"
    },
    {
     "data": {
      "text/plain": [
       "\u001b[0;31mOut[0:2]: \u001b[0mBaseWebGuiScene"
      ]
     },
     "metadata": {
      "after": [],
      "completed": "2025-06-10T07:23:20.322065Z",
      "data": {},
      "engine_id": 0,
      "engine_uuid": "9f4b6cb7-be0ba9e6bf3131482f573362",
      "error": null,
      "execute_input": "from usrMtgStuff import GetValve, StokesHDGDiscretization, solveCondensed\n\nmesh = GetValve(N=4, dim=2, maxh=0.1, closevalve=False)\nuin = CF((1, 0)) if mesh.ngmesh.dim == 2 else CF((1,0,0))\n\nwall = \"wall\" if mesh.ngmesh.dim == 3 else \"default\"\n(V, a, f, u) = StokesHDGDiscretization(mesh, order=2, wall=wall, inlet=\"inlet\", outlet=\"outlet\", nu=1e-3, div_div_pen=1e6)\n\namg_cl = amg.stokes_hdiv_gg_2d if V.mesh.ngmesh.dim == 2 else amg.stokes_hdiv_gg_3d\n\nc = amg_cl(a, ngs_amg_pres_vecs=\"P1\", ngs_amg_sm_type=\"hiptmair\", ngs_amg_sm_type_range=\"dyn_block_gs\", ngs_amg_log_level=\"basic\")\n\nf.Assemble()\na.Assemble()\n\nu.components[0].Set(uin, definedon=mesh.Boundaries(\"inlet\"))\nsolveCondensed(a, c, u.vec, f.vec, tol=1e-8)\n\nDraw(u.components[0], vectors=True)\n",
      "execute_result": {
       "data": {
        "text/plain": "BaseWebGuiScene"
       },
       "execution_count": 2,
       "metadata": {}
      },
      "follow": [],
      "is_broadcast": false,
      "is_coalescing": false,
      "msg_id": "ca55a7db-cbcc0dfc7183d246cb1de4f6_2268278_2",
      "outputs": [
       {
        "data": {
         "application/vnd.jupyter.widget-view+json": {
          "model_id": "b17b88a8344743c8a46e56037002013e",
          "version_major": 2,
          "version_minor": 0
         },
         "text/plain": "WebGuiWidget(layout=Layout(height='50vh', width='100%'), value={'gui_settings': {}, 'ngsolve_version': '6.2.25…"
        },
        "metadata": {},
        "transient": {}
       }
      ],
      "received": "2025-06-10T07:23:20.323901Z",
      "started": "2025-06-10T07:23:10.162502Z",
      "status": "ok",
      "stderr": "",
      "stdout": "\n ---------- AMG Summary ---------- \nVertex complexity: 1.46248\nOperator complexity: 1.87371\nVertex complexity components: 1 0.366441 0.0796095 0.0131744 0.00247215 0.000782326 \nOperator complexity components: 1 0.543797 0.288023 0.038348 0.00260423 0.000941063 \n# vertices 31956 11710 2544 421 79 25 \n# edges: 49003 24992 6435 860 98 33 \n# procs: 1 1 1 1 1 1 \nNZEs:6010225 3268340 1731084 230480 15652 5656 \n ---------- AMG Summary End ---------- \n\n\u001b[2KCG iteration 1, residual = 150.67262613908673     \n\u001b[2KCG iteration 2, residual = 13.53810988304646     \n\u001b[2KCG iteration 3, residual = 2.1364644323978874     \n\u001b[2KCG iteration 4, residual = 0.30954273481512495     \n\u001b[2KCG iteration 5, residual = 0.06551530271249087     \n\u001b[2KCG iteration 6, residual = 0.04253833390641992     \n\u001b[2KCG iteration 7, residual = 0.022008357149343204     \n\u001b[2KCG iteration 8, residual = 0.01493073642402337     \n\u001b[2KCG iteration 9, residual = 0.009203481667826306     \n\u001b[2KCG iteration 10, residual = 0.0061356910511886145     \n\u001b[2KCG iteration 11, residual = 0.0034925172498262123     \n\u001b[2KCG iteration 12, residual = 0.0019182276511785622     \n\u001b[2KCG iteration 13, residual = 0.0010780747274700925     \n\u001b[2KCG iteration 14, residual = 0.0006235685917832966     \n\u001b[2KCG iteration 15, residual = 0.0003637980818005795     \n\u001b[2KCG iteration 16, residual = 0.00022184232687164293     \n\u001b[2KCG iteration 17, residual = 0.00013328790600946336     \n\u001b[2KCG iteration 18, residual = 9.219835518278134e-05     \n\u001b[2KCG iteration 19, residual = 5.6275595285127594e-05     \n\u001b[2KCG iteration 20, residual = 3.770225832496463e-05     \n\u001b[2KCG iteration 21, residual = 2.1674643902654445e-05     \n\u001b[2KCG iteration 22, residual = 1.4099099586594913e-05     \n\u001b[2KCG iteration 23, residual = 7.923826783502691e-06     \n\u001b[2KCG iteration 24, residual = 5.142659092540842e-06     \n\u001b[2KCG iteration 25, residual = 2.8855157097526094e-06     \n\u001b[2KCG iteration 26, residual = 1.6472875867970918e-06     \n\u001b[2KCG iteration 27, residual = 9.308498851710784e-07     \n",
      "submitted": "2025-06-10T07:23:10.160223Z"
     },
     "output_type": "display_data"
    }
   ],
   "source": [
    "%%px\n",
    "from usrMtgStuff import GetValve, StokesHDGDiscretization, solveCondensed\n",
    "\n",
    "mesh = GetValve(N=4, dim=2, maxh=0.1, closevalve=False)\n",
    "uin = CF((1, 0)) if mesh.ngmesh.dim == 2 else CF((1,0,0))\n",
    "\n",
    "wall = \"wall\" if mesh.ngmesh.dim == 3 else \"default\"\n",
    "(V, a, f, u) = StokesHDGDiscretization(mesh, order=2, wall=wall, inlet=\"inlet\", outlet=\"outlet\", nu=1e-3, div_div_pen=1e6)\n",
    "\n",
    "amg_cl = amg.stokes_hdiv_gg_2d if V.mesh.ngmesh.dim == 2 else amg.stokes_hdiv_gg_3d\n",
    "\n",
    "c = amg_cl(a, ngs_amg_pres_vecs=\"P1\", ngs_amg_sm_type=\"hiptmair\", ngs_amg_sm_type_range=\"dyn_block_gs\", ngs_amg_log_level=\"basic\")\n",
    "\n",
    "f.Assemble()\n",
    "a.Assemble()\n",
    "\n",
    "u.components[0].Set(uin, definedon=mesh.Boundaries(\"inlet\"))\n",
    "solveCondensed(a, c, u.vec, f.vec, tol=1e-8)\n",
    "\n",
    "Draw(u.components[0], vectors=True)"
   ]
  },
  {
   "cell_type": "markdown",
   "id": "3c528736-04be-4db6-9ec6-b53f4142da05",
   "metadata": {},
   "source": [
    "\n",
    "The principle is to mimick geometric MG by constructing:\n",
    "* a series of $L^2$-like spaces\n",
    "$$Q_0 \\xleftarrow[P^Q_0]{} Q_1 \\xleftarrow[P^Q_0]{} Q_2, \\ldots$$\n",
    "* a series of $H(\\operatorname{div})$-like spaces\n",
    "$$V_0 \\xleftarrow[P_0]{} V_1 \\xleftarrow[P_0]{} V_2, \\ldots$$\n",
    "such that $\\operatorname{div}(V_i) = Q_i$\n",
    "* a series of $H^1/H(\\operatorname{curl})$-like potential spaces $W_0 , W_1 , W_2, \\ldots$\n",
    "* discrete $\\nabla^T/\\operatorname{curl}$-operators $D_i: W_i \\rightarrow V_i$ and discrete $\\operatorname{div}$-operators $C_i: V_i \\rightarrow Q_i$ such that on each level we have an exact sequence\n",
    "  $$ W_i \\xrightarrow[D_i]{} V_i \\xrightarrow[C_i]{} Q_q \\xrightarrow[Id]{} \\{0\\}$$\n",
    "* Between $L^2$ and $H(\\operatorname{div})$ space, prolongation and divergence commute\n",
    "  $$P^Q_i C_{i+1} = C_{i} P_i$$\n",
    "  \n",
    "\n",
    "This is achieved by\n",
    "* setting up the dual graph - elements become vertices, facets become edges, vertices/edges become \"faces\", or \"loops\"\n",
    "* coarsening of vertices in this dual graph induces coarsening of loops\n",
    "* construction of coarse basis functions with piecewise constant divergence via discrete harmonic extensions\n",
    "* construction of coarse potential space/discrete $\\nabla^T/\\operatorname{curl}$-operator based on loops (correspond to vertices/edges in 2d,3d)\n",
    "\n",
    "\n",
    "\n",
    "### Base functions\n",
    "\n",
    "Going back to a simpler geometry for visualization"
   ]
  },
  {
   "cell_type": "code",
   "execution_count": 4,
   "id": "d692af58-385d-4b02-a090-19c4cf7808f9",
   "metadata": {},
   "outputs": [
    {
     "data": {
      "text/plain": [
       "[stdout:0] \n",
       " ---------- AMG Summary ---------- \n",
       "Vertex complexity: 1.44643\n",
       "Operator complexity: 1.1114\n",
       "Vertex complexity components: 1 0.25 0.107143 0.0892857 \n",
       "Operator complexity components: 1 0.0889 0.0161 0.0064 \n",
       "# vertices 56 14 6 5 \n",
       "# edges: 88 27 7 4 \n",
       "# procs: 1 1 1 1 \n",
       "NZEs:10000 889 161 64 \n",
       " ---------- AMG Summary End ---------- \n",
       "\n"
      ]
     },
     "metadata": {},
     "output_type": "display_data"
    },
    {
     "data": {
      "text/plain": [
       "\u001b[0;31mOut[0:3]: \u001b[0m<ngsolve.comp.BilinearForm at 0x7fbdf09cadb0>"
      ]
     },
     "metadata": {
      "after": null,
      "completed": null,
      "data": {},
      "engine_id": 0,
      "engine_uuid": "9f4b6cb7-be0ba9e6bf3131482f573362",
      "error": null,
      "execute_input": "from netgen.geom2d import unit_square\nfrom usrMtgStuff import StokesHDGDiscretization\n\nmesh = Mesh(unit_square.GenerateMesh(maxh=0.2))\n\n(V, a, f, u) = StokesHDGDiscretization(mesh, order=2, wall=\"\", inlet=\"\", outlet=\".*\", nu=1e-3, div_div_pen=1e6)\n\nc = amg.stokes_hdiv_gg_2d(a, ngs_amg_pres_vecs=\"P0\", ngs_amg_sm_type=\"hiptmair\", ngs_amg_max_coarse_size=1, ngs_amg_crs_alg=\"spw\", ngs_amg_sm_type_range=\"dyn_block_gs\", ngs_amg_log_level=\"basic\")\n\na.Assemble()\n",
      "execute_result": {
       "data": {
        "text/plain": "<ngsolve.comp.BilinearForm at 0x7fbdf09cadb0>"
       },
       "execution_count": 3,
       "metadata": {}
      },
      "follow": null,
      "msg_id": null,
      "outputs": [],
      "received": null,
      "started": null,
      "status": null,
      "stderr": "",
      "stdout": "\n ---------- AMG Summary ---------- \nVertex complexity: 1.44643\nOperator complexity: 1.1114\nVertex complexity components: 1 0.25 0.107143 0.0892857 \nOperator complexity components: 1 0.0889 0.0161 0.0064 \n# vertices 56 14 6 5 \n# edges: 88 27 7 4 \n# procs: 1 1 1 1 \nNZEs:10000 889 161 64 \n ---------- AMG Summary End ---------- \n\n",
      "submitted": "2025-06-10T07:24:21.843906Z"
     },
     "output_type": "display_data"
    }
   ],
   "source": [
    "%%px\n",
    "from netgen.geom2d import unit_square\n",
    "from usrMtgStuff import StokesHDGDiscretization\n",
    "\n",
    "mesh = Mesh(unit_square.GenerateMesh(maxh=0.2))\n",
    "\n",
    "(V, a, f, u) = StokesHDGDiscretization(mesh, order=2, wall=\"\", inlet=\"\", outlet=\".*\", nu=1e-3, div_div_pen=1e6)\n",
    "\n",
    "c = amg.stokes_hdiv_gg_2d(a, ngs_amg_pres_vecs=\"P0\", ngs_amg_sm_type=\"hiptmair\", ngs_amg_max_coarse_size=1, ngs_amg_crs_alg=\"spw\", ngs_amg_sm_type_range=\"dyn_block_gs\", ngs_amg_log_level=\"basic\")\n",
    "\n",
    "a.Assemble()\n"
   ]
  },
  {
   "cell_type": "code",
   "execution_count": null,
   "id": "41a19021-f29e-4a51-bfd2-949b9422486a",
   "metadata": {},
   "outputs": [],
   "source": []
  },
  {
   "cell_type": "code",
   "execution_count": 8,
   "id": "fb0b4f38-592a-4c24-ba81-483139d83505",
   "metadata": {},
   "outputs": [
    {
     "data": {
      "text/plain": [
       "[output:0]"
      ]
     },
     "metadata": {},
     "output_type": "display_data"
    },
    {
     "data": {
      "application/vnd.jupyter.widget-view+json": {
       "model_id": "05955c31c7824567b722bbb5ae026160",
       "version_major": 2,
       "version_minor": 0
      },
      "text/plain": [
       "WebGuiWidget(layout=Layout(height='50vh', width='100%'), value={'gui_settings': {}, 'ngsolve_version': '6.2.25…"
      ]
     },
     "metadata": {
      "engine": 0
     },
     "output_type": "display_data"
    },
    {
     "data": {
      "text/plain": [
       "[output:0]"
      ]
     },
     "metadata": {},
     "output_type": "display_data"
    },
    {
     "data": {
      "application/vnd.jupyter.widget-view+json": {
       "model_id": "18cf9e54bb5b42a8aaf449743a86f78d",
       "version_major": 2,
       "version_minor": 0
      },
      "text/plain": [
       "interactive(children=(IntSlider(value=0, continuous_update=False, description='dof', max=8), Output()), _dom_c…"
      ]
     },
     "metadata": {
      "engine": 0
     },
     "output_type": "display_data"
    },
    {
     "data": {
      "text/plain": [
       "[output:0]"
      ]
     },
     "metadata": {},
     "output_type": "display_data"
    },
    {
     "data": {
      "application/vnd.jupyter.widget-view+json": {
       "model_id": "3c2d3a2dbe234f9cb8702da384b1c74b",
       "version_major": 2,
       "version_minor": 0
      },
      "text/plain": [
       "interactive(children=(IntSlider(value=3, continuous_update=False, description='level', max=3), Checkbox(value=…"
      ]
     },
     "metadata": {
      "engine": 0
     },
     "output_type": "display_data"
    }
   ],
   "source": [
    "%%px\n",
    "bf = GridFunction(V)\n",
    "\n",
    "@interact(level=widgets.IntSlider(min=0, max=c.GetNLevels()-1, step=1, value=c.GetNLevels()-1, continuous_update=False), \\\n",
    "          drawDiv=True)\n",
    "def getDrawBF(level, drawDiv):\n",
    "    @interact(dof=widgets.IntSlider(min=0, max=c.GetNDof(level=level), step=1, value=0, continuous_update=False))\n",
    "    def getDrawBFInner(dof):\n",
    "        c.GetBF(vec=bf.vec, level=level, dof=dof, comp=0)\n",
    "        if drawDiv:\n",
    "            Draw(div(bf.components[0]), mesh)\n",
    "        else:\n",
    "            Draw(bf.components[0], vectors=True)\n"
   ]
  },
  {
   "cell_type": "markdown",
   "id": "52c04db7-e00d-4a01-96d3-2ac69de9c92a",
   "metadata": {},
   "source": [
    "### Potential Space"
   ]
  },
  {
   "cell_type": "code",
   "execution_count": 15,
   "id": "d8f8c126-0326-41b1-aee2-98505e3273fe",
   "metadata": {},
   "outputs": [
    {
     "data": {
      "application/vnd.jupyter.widget-view+json": {
       "model_id": "6abcdab3ee774c93892a5dbb403754a9",
       "version_major": 2,
       "version_minor": 0
      },
      "text/plain": [
       "interactive(children=(IntSlider(value=2, continuous_update=False, description='level', max=2), Checkbox(value=…"
      ]
     },
     "metadata": {},
     "output_type": "display_data"
    }
   ],
   "source": [
    "%%px\n",
    "bf = GridFunction(V)\n",
    "# Draw(bf.components[0], vectors=True)\n",
    "# Draw(div(bf.components[0]), mesh)\n",
    "\n",
    "@interact(level=widgets.IntSlider(min=0, max=c.GetNLevels()-2, step=1, value=c.GetNLevels()-2, continuous_update=False), \\\n",
    "          loop=widgets.IntSlider(min=0, max=30, step=1, value=0, continuous_update=False),\\\n",
    "          drawDiv=False)\n",
    "def getDrawLoop(level, drawDiv):\n",
    "    @interact(loop=widgets.IntSlider(min=0, max=c.GetNLoops(level), step=1, value=0, continuous_update=False))\n",
    "    def getDrawLoopInner(loop):\n",
    "        c.GetLoop(comp_vec=bf.vec, level=level, loop_num=loop)\n",
    "        if drawDiv:\n",
    "            Draw(div(bf.components[0]), mesh)\n",
    "        else:\n",
    "            Draw(bf.components[0], vectors=True)\n",
    "    # Redraw()\n",
    "\n"
   ]
  }
 ],
 "metadata": {
  "kernelspec": {
   "display_name": "Python 3 (ipykernel)",
   "language": "python",
   "name": "python3"
  },
  "language_info": {
   "codemirror_mode": {
    "name": "ipython",
    "version": 3
   },
   "file_extension": ".py",
   "mimetype": "text/x-python",
   "name": "python",
   "nbconvert_exporter": "python",
   "pygments_lexer": "ipython3",
   "version": "3.11.13"
  }
 },
 "nbformat": 4,
 "nbformat_minor": 5
}
