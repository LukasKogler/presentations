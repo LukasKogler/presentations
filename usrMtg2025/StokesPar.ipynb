{
 "cells": [
  {
   "cell_type": "code",
   "execution_count": null,
   "id": "9e3137dc-f8b9-4377-89ec-dc7de1c38801",
   "metadata": {},
   "outputs": [],
   "source": [
    "import ipyparallel as ipp\n",
    "\n",
    "from ipyparallel import Cluster\n",
    "cluster = await Cluster(engines=\"mpi\", profile=\"myprofile\").start_and_connect(n=4, activate=True)\n",
    "cluster.ids"
   ]
  },
  {
   "cell_type": "code",
   "execution_count": null,
   "id": "aecd0def-88a9-4110-ba09-85e86b3f3c2f",
   "metadata": {},
   "outputs": [],
   "source": [
    "%%px\n",
    "from ipywidgets import interact, interactive, fixed, interact_manual\n",
    "import ipywidgets as widgets\n",
    "from ngsolve import *\n",
    "from ngsolve.webgui import Draw\n",
    "import ngsolve as ngs\n",
    "import NgsAMG as amg"
   ]
  },
  {
   "cell_type": "markdown",
   "id": "618991df-a2c4-4971-8aa1-76c6db2d9a87",
   "metadata": {},
   "source": [
    "## HDiv AMG\n",
    "\n",
    "Non-standard monolithic AMG method for Stokes, robust in domain shape and div-div penaly.\n",
    "\n",
    "Similar to [ParELAG](https://github.com/LLNL/parelag), with simpler caorsening (*), fast smoothers, some tricks for parallel.\n",
    "\n",
    "\n",
    "Should just work with H($\\operatorname{div}$)-HDG/MCS, includes treatment for tangential trace.\n",
    "\n",
    "\n",
    "\n",
    "(*) see also \"Algebraic multigrid for k‐form Laplacians\" (Luke Olson, Nathan Bell)."
   ]
  },
  {
   "cell_type": "code",
   "execution_count": null,
   "id": "a594338e-acc4-438b-88b3-cc2eebf48548",
   "metadata": {
    "scrolled": true
   },
   "outputs": [],
   "source": [
    "%%px\n",
    "from usrMtgStuffPar import GetValve, StokesHDGDiscretization, solveCondensed\n",
    "\n",
    "mesh = GetValve(N=4, dim=2, maxh=0.1, closevalve=False)\n",
    "uin = CF((1, 0)) if mesh.ngmesh.dim == 2 else CF((1,0,0))\n",
    "\n",
    "wall = \"wall\" if mesh.ngmesh.dim == 3 else \"default\"\n",
    "(V, a, f, u) = StokesHDGDiscretization(mesh, order=2, wall=wall, inlet=\"inlet\", outlet=\"outlet\", nu=1e-3, div_div_pen=1e6)\n",
    "\n",
    "amg_cl = amg.stokes_hdiv_gg_2d if V.mesh.ngmesh.dim == 2 else amg.stokes_hdiv_gg_3d\n",
    "\n",
    "c = amg_cl(a, ngs_amg_pres_vecs=\"P1\", ngs_amg_sm_type=\"hiptmair\", ngs_amg_sm_type_range=\"dyn_block_gs\", ngs_amg_log_level=\"basic\")\n",
    "\n",
    "f.Assemble()\n",
    "a.Assemble()\n",
    "\n",
    "u.components[0].Set(uin, definedon=mesh.Boundaries(\"inlet\"))\n",
    "solveCondensed(a, c, u.vec, f.vec, tol=1e-8)\n",
    "\n",
    "Draw(u.components[0], vectors=True)"
   ]
  },
  {
   "cell_type": "markdown",
   "id": "3c528736-04be-4db6-9ec6-b53f4142da05",
   "metadata": {},
   "source": [
    "\n",
    "The principle is to mimick geometric MG by constructing:\n",
    "* a series of $L^2$-like spaces\n",
    "$$Q_0 \\xleftarrow[P^Q_0]{} Q_1 \\xleftarrow[P^Q_0]{} Q_2, \\ldots$$\n",
    "* a series of $H(\\operatorname{div})$-like spaces\n",
    "$$V_0 \\xleftarrow[P_0]{} V_1 \\xleftarrow[P_0]{} V_2, \\ldots$$\n",
    "such that $\\operatorname{div}(V_i) = Q_i$\n",
    "* a series of $H^1/H(\\operatorname{curl})$-like potential spaces $W_0 , W_1 , W_2, \\ldots$\n",
    "* discrete $\\nabla^T/\\operatorname{curl}$-operators $D_i: W_i \\rightarrow V_i$ and discrete $\\operatorname{div}$-operators $C_i: V_i \\rightarrow Q_i$ such that on each level we have an exact sequence\n",
    "  $$ W_i \\xrightarrow[D_i]{} V_i \\xrightarrow[C_i]{} Q_q \\xrightarrow[Id]{} \\{0\\}$$\n",
    "* Between $L^2$ and $H(\\operatorname{div})$ space, prolongation and divergence commute\n",
    "  $$P^Q_i C_{i+1} = C_{i} P_i$$\n",
    "  \n",
    "\n",
    "This is achieved by\n",
    "* setting up the dual graph - elements become vertices, facets become edges, vertices/edges become \"faces\", or \"loops\"\n",
    "* coarsening of vertices in this dual graph induces coarsening of loops\n",
    "* construction of coarse basis functions with piecewise constant divergence via discrete harmonic extensions\n",
    "* construction of coarse potential space/discrete $\\nabla^T/\\operatorname{curl}$-operator based on loops (correspond to vertices/edges in 2d,3d)\n",
    "\n",
    "\n",
    "\n",
    "### Base functions\n",
    "\n",
    "Going back to a simpler geometry for visualization"
   ]
  },
  {
   "cell_type": "code",
   "execution_count": null,
   "id": "d692af58-385d-4b02-a090-19c4cf7808f9",
   "metadata": {},
   "outputs": [],
   "source": [
    "%%px\n",
    "from netgen.geom2d import unit_square\n",
    "from usrMtgStuffPar import StokesHDGDiscretization\n",
    "\n",
    "mesh = Mesh(unit_square.GenerateMesh(maxh=0.2))\n",
    "\n",
    "(V, a, f, u) = StokesHDGDiscretization(mesh, order=2, wall=\"\", inlet=\"\", outlet=\".*\", nu=1e-3, div_div_pen=1e6)\n",
    "\n",
    "c = amg.stokes_hdiv_gg_2d(a, ngs_amg_pres_vecs=\"P1\", ngs_amg_sm_type=\"hiptmair\", ngs_amg_max_coarse_size=1, ngs_amg_crs_alg=\"spw\", ngs_amg_sm_type_range=\"dyn_block_gs\", ngs_amg_log_level=\"basic\")\n",
    "\n",
    "a.Assemble()\n"
   ]
  },
  {
   "cell_type": "code",
   "execution_count": null,
   "id": "41a19021-f29e-4a51-bfd2-949b9422486a",
   "metadata": {},
   "outputs": [],
   "source": []
  },
  {
   "cell_type": "code",
   "execution_count": null,
   "id": "fb0b4f38-592a-4c24-ba81-483139d83505",
   "metadata": {},
   "outputs": [],
   "source": [
    "%%px\n",
    "bf = GridFunction(V)\n",
    "\n",
    "@interact(level=widgets.IntSlider(min=0, max=c.GetNLevels()-1, step=1, value=c.GetNLevels()-1, continuous_update=False), \\\n",
    "          drawDiv=True)\n",
    "def getDrawBF(level, drawDiv):\n",
    "    @interact(dof=widgets.IntSlider(min=0, max=c.GetNDof(level=level), step=1, value=0, continuous_update=False))\n",
    "    def getDrawBFInner(dof):\n",
    "        c.GetBF(vec=bf.vec, level=level, dof=dof, comp=0)\n",
    "        if drawDiv:\n",
    "            Draw(div(bf.components[0]), mesh)\n",
    "        else:\n",
    "            Draw(bf.components[0], vectors=True)\n"
   ]
  },
  {
   "cell_type": "markdown",
   "id": "52c04db7-e00d-4a01-96d3-2ac69de9c92a",
   "metadata": {},
   "source": [
    "### Potential Space"
   ]
  },
  {
   "cell_type": "code",
   "execution_count": null,
   "id": "d8f8c126-0326-41b1-aee2-98505e3273fe",
   "metadata": {},
   "outputs": [],
   "source": [
    "%%px\n",
    "bf = GridFunction(V)\n",
    "# Draw(bf.components[0], vectors=True)\n",
    "# Draw(div(bf.components[0]), mesh)\n",
    "\n",
    "@interact(level=widgets.IntSlider(min=0, max=c.GetNLevels()-2, step=1, value=c.GetNLevels()-2, continuous_update=False), \\\n",
    "          loop=widgets.IntSlider(min=0, max=30, step=1, value=0, continuous_update=False),\\\n",
    "          drawDiv=False)\n",
    "def getDrawLoop(level, drawDiv):\n",
    "    @interact(loop=widgets.IntSlider(min=0, max=c.GetNLoops(level), step=1, value=0, continuous_update=False))\n",
    "    def getDrawLoopInner(loop):\n",
    "        c.GetLoop(comp_vec=bf.vec, level=level, loop_num=loop)\n",
    "        if drawDiv:\n",
    "            Draw(div(bf.components[0]), mesh)\n",
    "        else:\n",
    "            Draw(bf.components[0], vectors=True)\n",
    "    # Redraw()\n",
    "\n"
   ]
  }
 ],
 "metadata": {
  "kernelspec": {
   "display_name": "Python 3 (ipykernel)",
   "language": "python",
   "name": "python3"
  },
  "language_info": {
   "codemirror_mode": {
    "name": "ipython",
    "version": 3
   },
   "file_extension": ".py",
   "mimetype": "text/x-python",
   "name": "python",
   "nbconvert_exporter": "python",
   "pygments_lexer": "ipython3",
   "version": "3.11.13"
  }
 },
 "nbformat": 4,
 "nbformat_minor": 5
}
