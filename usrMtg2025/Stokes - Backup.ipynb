{
 "cells": [
  {
   "cell_type": "code",
   "execution_count": 1,
   "id": "aecd0def-88a9-4110-ba09-85e86b3f3c2f",
   "metadata": {},
   "outputs": [],
   "source": [
    "from ipywidgets import interact, interactive, fixed, interact_manual\n",
    "import ipywidgets as widgets\n",
    "from ngsolve import *\n",
    "from ngsolve.webgui import Draw\n",
    "import ngsolve as ngs\n",
    "import NgsAMG as amg"
   ]
  },
  {
   "cell_type": "markdown",
   "id": "3475eec2-e9de-455e-a716-f92a23cb7117",
   "metadata": {},
   "source": [
    "## HDiv AMG\n",
    "\n",
    "Non-standard monolithic AMG method for Stokes, works by coarsening dual graph and constructing coarse basis functions with piecewise constant divergence.\n",
    "\n",
    "Similar to [ParELAG](https://github.com/LLNL/parelag), see also \"Algebraic multigrid for k‐form Laplacians\" (Luke Olson, Nathan Bell).\n"
   ]
  },
  {
   "cell_type": "code",
   "execution_count": 15,
   "id": "ee89258d-565f-4cea-bc86-7f95e207e26b",
   "metadata": {},
   "outputs": [],
   "source": [
    "from usrMtgStuff import GetValve, StokesHDGDiscretization, solveCondensed\n",
    "\n",
    "mesh = GetValve(N=4, dim=2, maxh=0.1, closevalve=False)\n",
    "uin = CF((1, 0)) if mesh.ngmesh.dim == 2 else CF((1,0,0))\n",
    "\n",
    "wall = \"wall\" if mesh.ngmesh.dim == 3 else \"default\"\n",
    "(V, a, f, u) = StokesHDGDiscretization(mesh, order=2, wall=wall, inlet=\"inlet\", outlet=\"outlet\", nu=1e-3, div_div_pen=1e6)\n"
   ]
  },
  {
   "cell_type": "code",
   "execution_count": 16,
   "id": "37408d62-9fc1-43a7-81e4-81f124144f0a",
   "metadata": {},
   "outputs": [
    {
     "data": {
      "application/vnd.jupyter.widget-view+json": {
       "model_id": "2fb9cfa605594a99808234091bd8e1f6",
       "version_major": 2,
       "version_minor": 0
      },
      "text/plain": [
       "WebGuiWidget(layout=Layout(height='50vh', width='100%'), value={'gui_settings': {}, 'ngsolve_version': '6.2.25…"
      ]
     },
     "metadata": {},
     "output_type": "display_data"
    },
    {
     "data": {
      "text/plain": [
       "BaseWebGuiScene"
      ]
     },
     "execution_count": 16,
     "metadata": {},
     "output_type": "execute_result"
    }
   ],
   "source": [
    "Draw(mesh)"
   ]
  },
  {
   "cell_type": "code",
   "execution_count": null,
   "id": "44665c96-bb05-4f9d-847e-a94e6d41c27c",
   "metadata": {},
   "outputs": [],
   "source": []
  },
  {
   "cell_type": "code",
   "execution_count": 17,
   "id": "a594338e-acc4-438b-88b3-cc2eebf48548",
   "metadata": {},
   "outputs": [
    {
     "name": "stdout",
     "output_type": "stream",
     "text": [
      "Set up AMG-levels...\n",
      " map maps 49039 -> 25116, fac 0.512164\n",
      " map maps 25116 -> 6547, fac 0.26067\n",
      " map maps 6547 -> 896, fac 0.136857\n",
      " map maps 896 -> 103, fac 0.114955\n",
      " map maps 103 -> 29, fac 0.281553\n",
      "Done setting up AMG-levels!\n",
      "\n",
      " ---------- AMG Summary ---------- \n",
      "Vertex complexity: 1.46579\n",
      "Operator complexity: 1.87965\n",
      "Vertex complexity components: 1 0.368355 0.0808005 0.0134459 0.00247029 0.000719199 \n",
      "Operator complexity components: 1 0.544199 0.29092 0.0407167 0.0030033 0.000808682 \n",
      "# vertices 31980 11780 2584 430 79 23 \n",
      "# edges: 49039 25116 6547 896 103 29 \n",
      "# procs: 1 1 1 1 1 1 \n",
      "NZEs:6014725 3273208 1749804 244900 18064 4864 \n",
      " ---------- AMG Summary End ---------- \n",
      "\n",
      "Preconditioner test:\n",
      "   min EV = 0.05457451753302116\n",
      "   max EV = 0.999890266402498\n",
      "   condition = 18.32155943105679\n",
      "\n",
      "\n",
      "Solve...\n",
      "\u001b[2KCG iteration 1, residual = 150.81465700448615     \n",
      "\u001b[2KCG iteration 2, residual = 13.102371507751082     \n",
      "\u001b[2KCG iteration 3, residual = 2.0918493952147013     \n",
      "\u001b[2KCG iteration 4, residual = 0.3002979443327323     \n",
      "\u001b[2KCG iteration 5, residual = 0.06471576088590376     \n",
      "\u001b[2KCG iteration 6, residual = 0.043377143449290306     \n",
      "\u001b[2KCG iteration 7, residual = 0.019860691244770867     \n",
      "\u001b[2KCG iteration 8, residual = 0.013879023588647864     \n",
      "\u001b[2KCG iteration 9, residual = 0.008119215977709563     \n",
      "\u001b[2KCG iteration 10, residual = 0.005471515960897413     \n",
      "\u001b[2KCG iteration 11, residual = 0.002908176358013177     \n",
      "\u001b[2KCG iteration 12, residual = 0.0018370517838545188     \n",
      "\u001b[2KCG iteration 13, residual = 0.001012986566259088     \n",
      "\u001b[2KCG iteration 14, residual = 0.0006873587814987786     \n",
      "\u001b[2KCG iteration 15, residual = 0.0003795769602306119     \n",
      "\u001b[2KCG iteration 16, residual = 0.0002201233281799682     \n",
      "\u001b[2KCG iteration 17, residual = 0.00012913025069162935     \n",
      "\u001b[2KCG iteration 18, residual = 7.71915330917466e-05     \n",
      "\u001b[2KCG iteration 19, residual = 4.282022074961602e-05     \n",
      "\u001b[2KCG iteration 20, residual = 2.7912918639326443e-05     \n",
      "\u001b[2KCG iteration 21, residual = 1.7106747549177293e-05     \n",
      "\u001b[2KCG iteration 22, residual = 1.2309454540360754e-05     \n",
      "\u001b[2KCG iteration 23, residual = 7.126477306539424e-06     \n",
      "\u001b[2KCG iteration 24, residual = 5.040621504705707e-06     \n",
      "\u001b[2KCG iteration 25, residual = 2.991240795788413e-06     \n",
      "\u001b[2KCG iteration 26, residual = 2.0361286590211375e-06     \n",
      "\u001b[2KCG iteration 27, residual = 1.2696579369549045e-06     \n",
      "\n",
      "time AMG setup = 3.468148911383321 sec\n",
      "    set up  107519.89304036702 DOFS/sec\n",
      "time solve = 1.9179291164897563 sec\n",
      "    solved  194425.85067089557 DOFS/sec\n"
     ]
    }
   ],
   "source": [
    "\n",
    "amg_cl = amg.stokes_hdiv_gg_2d if V.mesh.ngmesh.dim == 2 else amg.stokes_hdiv_gg_3d\n",
    "\n",
    "c = amg_cl(a, ngs_amg_pres_vecs=\"P1\", ngs_amg_sm_type=\"hiptmair\", ngs_amg_sm_type_range=\"dyn_block_gs\")\n",
    "\n",
    "f.Assemble()\n",
    "a.Assemble()\n",
    "\n",
    "u.components[0].Set(uin, definedon=mesh.Boundaries(\"inlet\"))\n",
    "solveCondensed(a, c, u.vec, f.vec, tol=1e-8)\n"
   ]
  },
  {
   "cell_type": "code",
   "execution_count": 18,
   "id": "04ad4373-25da-438c-9fde-490ac839ac2f",
   "metadata": {},
   "outputs": [
    {
     "data": {
      "application/vnd.jupyter.widget-view+json": {
       "model_id": "2e007a4a6cc84e8a8af16358b46b3eed",
       "version_major": 2,
       "version_minor": 0
      },
      "text/plain": [
       "WebGuiWidget(layout=Layout(height='50vh', width='100%'), value={'gui_settings': {}, 'ngsolve_version': '6.2.25…"
      ]
     },
     "metadata": {},
     "output_type": "display_data"
    },
    {
     "data": {
      "text/plain": [
       "BaseWebGuiScene"
      ]
     },
     "execution_count": 18,
     "metadata": {},
     "output_type": "execute_result"
    }
   ],
   "source": [
    "Draw(u.components[0], vectors=True)"
   ]
  },
  {
   "cell_type": "code",
   "execution_count": 19,
   "id": "788f9009-bba1-4a0e-8629-b9ce14dc0ee3",
   "metadata": {},
   "outputs": [
    {
     "name": "stdout",
     "output_type": "stream",
     "text": [
      "AMG - Solve: 1.9179291164897563\n",
      "Finalize tmp timer: 0.07856142555837405\n",
      "AMG - Solve: 0.13006918620158078\n",
      "DynBlockSmoother - SmoothRHS: 1.4043153431916129\n",
      "HiptMairSmoother::SmoothBack - range: 1.4045482721130063\n",
      "HiptMairSmoother::SmoothBack: 1.9543041702628299\n",
      "DynBlockSparseMatrix::Mult: 0.3222207619757672\n",
      "DynBlockSmoother - SmoothRes: 0.8348869648970924\n",
      "DynBlockSparseMatrix::MultAdd: 0.9841364263547534\n",
      "HiptMairSmoother::ApplyPotUpdate: 0.5565781065246358\n",
      "GSS3<bs=1>::SmoothRHS: 0.06076286913939977\n",
      "HiptMairSmoother::CalcPotRhs: 0.4848561749557195\n",
      "HiptMairSmoother::Smooth - range: 0.8351922452265595\n",
      "HiptMairSmoother::Smooth: 1.3917519373025395\n",
      "level 2: 0.40357421366739954\n",
      "level 1: 0.9037330957946826\n",
      "level 0: 2.566449657382557\n",
      "AMGMatrix::Mult: 3.9179111416336276\n",
      "SparseMatrix::MultAdd: 0.6524635876018023\n",
      "DynBlockSparseMatrix - Finalize: 0.2247670563762835\n",
      "StokesAMGFactory::ProjectToPotSpace: 0.10298112110773665\n",
      "StokesAMGFactory::MapLevel: 2.3897406109019332\n",
      "StokesAMGFactory::BuildPWProl_impl: 0.2317601055512209\n",
      "StokesAMGFactory::RangeProlMap: 0.25455100915695866\n",
      "StokesAMGFactory::BuildCoarseDOFMap: 0.2545671139222014\n",
      "SetUpLevels: 2.6855476873261757\n",
      "RestrictMatrix2: 2.387037901196534\n",
      "AMG - sparse matrix multiplication - mult: 0.7448446022415859\n",
      "AMG - sparse matrix multiplication - setup b1: 0.17947264420219194\n",
      "AMG - sparse matrix multiplication - setup b: 0.9875249189766192\n",
      "AMG - sparse matrix multiplication - setup a: 0.796980238667103\n",
      "AMG - sparse matrix multiplication: 2.5293967938021846\n",
      "BaseVector::Set: 0.0638694183369601\n",
      "AMG - TransposeMatrix: 0.1481520667492873\n",
      "BaseAMGPC::BuildAMGMat: 3.468148911383321\n",
      "SparseMatrix::AddElementMatrix: 0.05512525102327019\n",
      "static condensation 2: 0.05662253780580196\n",
      "static condensation: 0.07333744983498679\n",
      "SymbolicBFI::CalcElementMatrixAddddd: 1.6815764320391036\n",
      "calc elmats: 1.6888020420267351\n",
      "Matrix assembling vol: 1.8496020191691311\n",
      "Matrix assembling finalize matrix: 3.4688472080024693\n",
      "Matrix assembling: 5.34510882548631\n",
      "MatrixGraph: 0.07862091316017429\n",
      "BilinearForm::GetGraph: 0.09704308410059356\n",
      "S_BaseVector::SetScalar: 0.14156548784493195\n",
      "Combineimprove 2D: 0.602524501113955\n",
      "MeshSmooting 2D - loop: 1.280343341087245\n",
      "MeshSmoothing 2D: 1.3488720380592376\n",
      "Mesh::CreatePoint2SurfaceElementTable: 0.08661757929556613\n",
      "EdgeSwapping 2D start: 0.06887801033040315\n",
      "EdgeSwapping (2D): 1.14785022766928\n",
      "Optimization 2D: 3.166759883314116\n",
      "meshing2::ApplyRules 1: 0.05652540531524858\n",
      "surfacemeshing mainloop: 0.32848412524377296\n",
      "surface meshing3: 0.06036837241166648\n",
      "surface meshing: 0.32872031513005306\n",
      "GenerateMesh: 0.3287225157812042\n",
      "Surface Meshing: 3.5242494109731166\n",
      "OCCSetLocalMeshSize: 0.07786917072693189\n",
      "timer2 - make list: 0.08738982779635361\n",
      "els: 0.3756835911046404\n",
      "timer2 - mult: 0.06506756285621894\n",
      "edges: 0.408906381403744\n",
      "BuildRenderData: 0.802733470992346\n",
      "LinearSolver.Solve: 2.0479261313365384\n"
     ]
    }
   ],
   "source": [
    "for t in Timers():\n",
    "    if t[\"time\"] > 0.05:\n",
    "      print(f\"{t['name']}: {t['time']}\")"
   ]
  },
  {
   "cell_type": "markdown",
   "id": "8642cf5e-8b6f-4b51-b714-d21a3d409f09",
   "metadata": {},
   "source": []
  },
  {
   "cell_type": "code",
   "execution_count": 20,
   "id": "a83e7e5f-855f-4dbb-b401-07bca32cf5df",
   "metadata": {},
   "outputs": [
    {
     "data": {
      "application/vnd.jupyter.widget-view+json": {
       "model_id": "5de36f0d2e8c49718930af60c3c6a75b",
       "version_major": 2,
       "version_minor": 0
      },
      "text/plain": [
       "interactive(children=(IntSlider(value=5, continuous_update=False, description='level', max=5), IntSlider(value…"
      ]
     },
     "metadata": {},
     "output_type": "display_data"
    }
   ],
   "source": [
    "bf = GridFunction(V)\n",
    "# Draw(bf.components[0], vectors=True)\n",
    "# Draw(div(bf.components[0]), mesh)\n",
    "\n",
    "@interact(level=widgets.IntSlider(min=0, max=c.GetNLevels()-1, step=1, value=c.GetNLevels()-1, continuous_update=False), \\\n",
    "          dof=widgets.IntSlider(min=0, max=30, step=1, value=0, continuous_update=False),\\\n",
    "          drawDiv=True)\n",
    "def getDrawBF(level, dof, drawDiv):\n",
    "    c.GetBF(vec=bf.vec, level=level, dof=dof, comp=0)\n",
    "    if drawDiv:\n",
    "        Draw(div(bf.components[0]), mesh)\n",
    "    else:\n",
    "        Draw(bf.components[0], vectors=True)\n",
    "    # Redraw()\n",
    "\n",
    "# interact(lambda level, dof: getDrawBF(level, dof), level=c.GetNLevels()-1, dof=widgets.IntSlider(min=0, max=500, step=1, value=0));"
   ]
  },
  {
   "cell_type": "markdown",
   "id": "52c04db7-e00d-4a01-96d3-2ac69de9c92a",
   "metadata": {},
   "source": []
  },
  {
   "cell_type": "code",
   "execution_count": 21,
   "id": "0c2a87c3-e6aa-41b9-99d9-4842ee7a935a",
   "metadata": {},
   "outputs": [],
   "source": [
    "c.GetLoop(comp_vec=bf.vec, level=3, loop_num=1)\n",
    "\n"
   ]
  },
  {
   "cell_type": "code",
   "execution_count": 26,
   "id": "d8f8c126-0326-41b1-aee2-98505e3273fe",
   "metadata": {},
   "outputs": [
    {
     "data": {
      "application/vnd.jupyter.widget-view+json": {
       "model_id": "eb06cc5e91724423a900af663a0fb370",
       "version_major": 2,
       "version_minor": 0
      },
      "text/plain": [
       "interactive(children=(IntSlider(value=4, continuous_update=False, description='level', max=4), IntSlider(value…"
      ]
     },
     "metadata": {},
     "output_type": "display_data"
    }
   ],
   "source": [
    "bf = GridFunction(V)\n",
    "# Draw(bf.components[0], vectors=True)\n",
    "# Draw(div(bf.components[0]), mesh)\n",
    "\n",
    "@interact(level=widgets.IntSlider(min=0, max=c.GetNLevels()-2, step=1, value=c.GetNLevels()-2, continuous_update=False), \\\n",
    "          loop=widgets.IntSlider(min=0, max=500, step=1, value=107, continuous_update=False),\\\n",
    "          drawDiv=False)\n",
    "def getDrawLoop(level, loop, drawDiv):\n",
    "    c.GetLoop(comp_vec=bf.vec, level=level, loop_num=loop)\n",
    "    if drawDiv:\n",
    "        Draw(div(bf.components[0]), mesh)\n",
    "    else:\n",
    "        Draw(bf.components[0], vectors=True)\n",
    "    # Redraw()\n",
    "\n"
   ]
  },
  {
   "cell_type": "code",
   "execution_count": null,
   "id": "828be737-f115-42f5-b97a-df64f03058ab",
   "metadata": {},
   "outputs": [],
   "source": []
  },
  {
   "cell_type": "code",
   "execution_count": null,
   "id": "2fd1a63e-7c02-4e54-8f1d-2e9f4cac2bf9",
   "metadata": {},
   "outputs": [],
   "source": []
  },
  {
   "cell_type": "code",
   "execution_count": null,
   "id": "a60db26c-cd8e-4673-b850-99ab1d475073",
   "metadata": {},
   "outputs": [],
   "source": []
  }
 ],
 "metadata": {
  "kernelspec": {
   "display_name": "Python 3 (ipykernel)",
   "language": "python",
   "name": "python3"
  },
  "language_info": {
   "codemirror_mode": {
    "name": "ipython",
    "version": 3
   },
   "file_extension": ".py",
   "mimetype": "text/x-python",
   "name": "python",
   "nbconvert_exporter": "python",
   "pygments_lexer": "ipython3",
   "version": "3.10.12"
  }
 },
 "nbformat": 4,
 "nbformat_minor": 5
}
