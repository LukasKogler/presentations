{
 "cells": [
  {
   "cell_type": "markdown",
   "id": "9638ebe6-6c7b-4aba-b036-234e3d7e5623",
   "metadata": {},
   "source": [
    "# NgsAMG\n",
    "\n",
    "AMG Addon package I developed at TU Wien, available on [Github](https://github.com/LukasKogler/NgsAMG)\n",
    "\n",
    "Features:\n",
    "* Relatively standard smoothed aggregation for H1\n",
    "* SA for Elasticity with some non-standard features\n",
    "* non-standard Monolithic Stokes-AMG (similar to [ParELAG](https://github.com/LLNL/parelag))\n",
    "* Some reusable building blocks/smoothers\n",
    "\n",
    "Everything is MPI-parallel, very little shared-memory parallelization, no GPU :(\n",
    "\n",
    "#### Installation\n",
    "Primary target is Linux + MPI-parallel NGSolve, but should work without MPI and on MacOS.\n",
    "\n",
    "Relatively painless cmake install, pip install is also implemented (probably works too)\n",
    " > python3 -m pip install git+https://github.com/LukasKogler/NgsAMG.git\n",
    "\n",
    "#### Content\n",
    "\n",
    "Serial and parallel version of each notebook that works with MPI/no MPI build, parallel version has limited drawing.\n",
    "\n",
    "Serial:\n",
    "* [H1/Elasticity](BasicAMG.ipynb)\n",
    "* [Stokes](Stokes.ipynb)\n",
    "* [Smoothers](Smoothers.ipynb)\n",
    "\n",
    "Parallel:\n",
    "* [H1/Elasticity](BasicAMGParallelPETSc.ipynb)\n",
    "* [Stokes](StokesPar.ipynb)\n",
    "* [Smoothers](SmoothersPar.ipynb)\n",
    "\n",
    "Itils used in the other books:\n",
    "* [serial](usrMtgStuff.py)\n",
    "* [parallel](usrMtgStuffPar.py)\n"
   ]
  },
  {
   "cell_type": "code",
   "execution_count": null,
   "id": "c308068a-3c3e-41f1-951b-c5f0c4d22bdf",
   "metadata": {},
   "outputs": [],
   "source": []
  }
 ],
 "metadata": {
  "kernelspec": {
   "display_name": "Python 3 (ipykernel)",
   "language": "python",
   "name": "python3"
  },
  "language_info": {
   "codemirror_mode": {
    "name": "ipython",
    "version": 3
   },
   "file_extension": ".py",
   "mimetype": "text/x-python",
   "name": "python",
   "nbconvert_exporter": "python",
   "pygments_lexer": "ipython3",
   "version": "3.11.13"
  }
 },
 "nbformat": 4,
 "nbformat_minor": 5
}
