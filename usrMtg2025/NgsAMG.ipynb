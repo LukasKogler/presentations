{
 "cells": [
  {
   "cell_type": "code",
   "execution_count": 1,
   "id": "38607001-ad4c-4603-9311-322b0eb717ad",
   "metadata": {},
   "outputs": [],
   "source": [
    "from ngsolve import *\n",
    "from ngsolve.webgui import Draw\n",
    "import ngsolve as ngs\n",
    "import NgsAMG as amg"
   ]
  },
  {
   "cell_type": "markdown",
   "id": "9638ebe6-6c7b-4aba-b036-234e3d7e5623",
   "metadata": {},
   "source": [
    "# NgsAMG\n",
    "\n",
    "AMG Addon package I developed at TU Wien.\n",
    "\n",
    "Features:\n",
    "* Relatively standard smoothed aggregation for H1\n",
    "* SA for Elasticity with some non-standard features\n",
    "* non-standard Monolithic Stokes-AMG (similar to [ParELAG](https://github.com/LLNL/parelag))\n",
    "* Some reusable building blocks/smoothers\n",
    "\n",
    "Everything is MPI-parallel, very little shared-memory parallelization, no GPU :(\n"
   ]
  },
  {
   "cell_type": "code",
   "execution_count": null,
   "id": "e6da9988-a406-45ea-ac9d-8da5313c4510",
   "metadata": {},
   "outputs": [],
   "source": []
  },
  {
   "cell_type": "markdown",
   "id": "544684a1-a775-4fca-95ad-5afa2fddbd2f",
   "metadata": {},
   "source": [
    "### H1\n",
    "\n",
    "It works, I guess."
   ]
  },
  {
   "cell_type": "code",
   "execution_count": null,
   "id": "4602ccf2-6e10-49e5-9d71-6aa250875b27",
   "metadata": {},
   "outputs": [],
   "source": [
    "from usrMtgStuff import setupH1Square, testAndSolve\n",
    "\n",
    "V, a, f, u = setupH1Square(maxh=0.01, nref=0)\n",
    "\n",
    "c = Preconditioner(a, \"NgsAMG.h1_scal\", ngs_amg_crs_alg=\"spw\")\n",
    "a.Assemble()\n",
    "f.Assemble()\n",
    "\n",
    "testAndSolve(a.mat, c, u, f.vec)"
   ]
  },
  {
   "cell_type": "code",
   "execution_count": null,
   "id": "4bebe0e4-5cab-409f-a7a4-6799ac364e69",
   "metadata": {},
   "outputs": [],
   "source": [
    "# Draw(u);\n",
    "# for t in Timers():\n",
    "#     if t[\"time\"] > 0.05:\n",
    "#       print(f\"{t['name']}: {t['time']}\")"
   ]
  },
  {
   "cell_type": "markdown",
   "id": "827e99e1-1db8-4e91-a844-140d568d6df2",
   "metadata": {},
   "source": [
    "### Elasticity"
   ]
  },
  {
   "cell_type": "code",
   "execution_count": null,
   "id": "82203999-7c0a-4161-8fc0-0e509a14c853",
   "metadata": {},
   "outputs": [],
   "source": [
    "from usrMtgStuff import setupElastBeam, testAndSolve\n",
    "\n",
    "V, a, f, u = setupElastBeam(N=10, dim=3)\n",
    "\n",
    "c = Preconditioner(a, f\"NgsAMG.elast_{V.mesh.dim}d\", ngs_amg_crs_alg=\"mis\")\n",
    "a.Assemble()\n",
    "f.Assemble()\n",
    "\n",
    "testAndSolve(a.mat, c, u, f.vec)"
   ]
  },
  {
   "cell_type": "code",
   "execution_count": null,
   "id": "43e425d0-f6f8-45eb-8d8f-c64af7ee72da",
   "metadata": {},
   "outputs": [],
   "source": [
    "Draw(u, deformation=True)"
   ]
  },
  {
   "cell_type": "markdown",
   "id": "0934dae9-2082-4361-9c2a-ef0e2c14486e",
   "metadata": {},
   "source": [
    "No silver bullet - similar limitations as PETSc, BoomerAMG, etc"
   ]
  },
  {
   "cell_type": "code",
   "execution_count": 42,
   "id": "0c49dd55-37ea-491a-a91a-68ca53211aa9",
   "metadata": {},
   "outputs": [
    {
     "name": "stdout",
     "output_type": "stream",
     "text": [
      "Set up AMG-levels...\n",
      " Found 0 isolated vertices, keeping them out of next level!\n",
      " PairingIteration, time = 0.00547577\n",
      " PairingIteration, time = 0.00227874\n",
      " PairingIteration, time = 0.00106218\n",
      " map maps 110011 -> 13750, fac 0.124988\n",
      " Found 0 isolated vertices, keeping them out of next level!\n",
      " PairingIteration, time = 0.00059179\n",
      " PairingIteration, time = 0.000280845\n",
      " PairingIteration, time = 0.000129502\n",
      " map maps 13750 -> 1727, fac 0.1256\n",
      " Found 0 isolated vertices, keeping them out of next level!\n",
      " PairingIteration, time = 8.23514e-05\n",
      " PairingIteration, time = 3.90007e-05\n",
      " PairingIteration, time = 1.77303e-05\n",
      " map maps 1727 -> 220, fac 0.127389\n",
      " Found 0 isolated vertices, keeping them out of next level!\n",
      " PairingIteration, time = 1.46203e-05\n",
      " PairingIteration, time = 6.51011e-06\n",
      " PairingIteration, time = 3.51006e-06\n",
      " map maps 220 -> 28, fac 0.127273\n",
      "Done setting up AMG-levels!\n",
      "\n",
      " ---------- AMG Summary ---------- \n",
      "Vertex complexity: 1.14294\n",
      "Operator complexity: 1.45023\n",
      "Vertex complexity components: 1 0.124988 0.0156984 0.0019998 0.00025452 \n",
      "Operator complexity components: 1 0.358098 0.078571 0.0123344 0.00122666 \n",
      "# vertices 110011 13750 1727 220 28 \n",
      "# edges: 310010 38729 4846 599 60 \n",
      "# procs: 1 1 1 1 1 \n",
      "NZEs:730031 116188 25493 4002 398 \n",
      " ---------- AMG Summary End ---------- \n",
      "\n",
      "Preconditioner test:\n",
      "   min EV = 0.003818210334614852\n",
      "   max EV = 0.9998895064636157\n",
      "   condition = 261.8738672929803\n",
      "\n",
      "\n",
      "Solve...\n",
      "\u001b[2KCG iteration 1, residual = 0.00045975275389106124     \n",
      "\u001b[2KCG iteration 2, residual = 0.000461589347054212     \n",
      "\u001b[2KCG iteration 3, residual = 0.00036025550549733434     \n",
      "\u001b[2KCG iteration 4, residual = 0.0003535512361525953     \n",
      "\u001b[2KCG iteration 5, residual = 0.00028659224060603196     \n",
      "\u001b[2KCG iteration 6, residual = 0.00023468063164554958     \n",
      "\u001b[2KCG iteration 7, residual = 0.0002626070044741428     \n",
      "\u001b[2KCG iteration 8, residual = 0.00028931825529334267     \n",
      "\u001b[2KCG iteration 9, residual = 0.000321620351871142     \n",
      "\u001b[2KCG iteration 10, residual = 0.00028957168310844673     \n",
      "\u001b[2KCG iteration 11, residual = 0.0003070317223424415     \n",
      "\u001b[2KCG iteration 12, residual = 0.0002489343434106202     \n",
      "\u001b[2KCG iteration 13, residual = 0.0002405494382767835     \n",
      "\u001b[2KCG iteration 14, residual = 0.00020023739954809302     \n",
      "\u001b[2KCG iteration 15, residual = 0.00015223698187627295     \n",
      "\u001b[2KCG iteration 16, residual = 9.034070498529529e-05     \n",
      "\u001b[2KCG iteration 17, residual = 6.911476224498397e-05     \n",
      "\u001b[2KCG iteration 18, residual = 5.983993028831797e-05     \n",
      "\u001b[2KCG iteration 19, residual = 5.187782389147362e-05     \n",
      "\u001b[2KCG iteration 20, residual = 4.9186461141361465e-05     \n",
      "\u001b[2KCG iteration 21, residual = 4.282639535249932e-05     \n",
      "\u001b[2KCG iteration 22, residual = 3.131330955880837e-05     \n",
      "\u001b[2KCG iteration 23, residual = 2.7855993289421085e-05     \n",
      "\u001b[2KCG iteration 24, residual = 2.22015082857643e-05     \n",
      "\u001b[2KCG iteration 25, residual = 1.8315490444077372e-05     \n",
      "\u001b[2KCG iteration 26, residual = 1.362560088459723e-05     \n",
      "\u001b[2KCG iteration 27, residual = 1.0112602259216808e-05     \n",
      "\u001b[2KCG iteration 28, residual = 8.436967343435916e-06     \n",
      "\u001b[2KCG iteration 29, residual = 9.152480712731899e-06     \n",
      "\u001b[2KCG iteration 30, residual = 1.1637611237295967e-05     \n",
      "\u001b[2KCG iteration 31, residual = 1.4508255098127152e-05     \n",
      "\u001b[2KCG iteration 32, residual = 1.3664157795538317e-05     \n",
      "\u001b[2KCG iteration 33, residual = 1.0463876112596409e-05     \n",
      "\u001b[2KCG iteration 34, residual = 7.766206437703556e-06     \n",
      "\u001b[2KCG iteration 35, residual = 6.082176015874071e-06     \n",
      "\u001b[2KCG iteration 36, residual = 5.494665302819989e-06     \n",
      "\u001b[2KCG iteration 37, residual = 4.388304457355804e-06     \n",
      "\u001b[2KCG iteration 38, residual = 3.149882373557948e-06     \n",
      "\u001b[2KCG iteration 39, residual = 2.512577876273378e-06     \n",
      "\u001b[2KCG iteration 40, residual = 1.97519187109537e-06     \n",
      "\u001b[2KCG iteration 41, residual = 1.878548981535125e-06     \n",
      "\u001b[2KCG iteration 42, residual = 1.7030762122560197e-06     \n",
      "\u001b[2KCG iteration 43, residual = 1.3547699997540815e-06     \n",
      "\u001b[2KCG iteration 44, residual = 9.716602176623147e-07     \n",
      "\u001b[2KCG iteration 45, residual = 7.249979745512022e-07     \n",
      "\u001b[2KCG iteration 46, residual = 5.075703060842023e-07     \n",
      "\u001b[2KCG iteration 47, residual = 4.1968273892136844e-07     \n",
      "\u001b[2KCG iteration 48, residual = 3.465768058651883e-07     \n",
      "\u001b[2KCG iteration 49, residual = 2.7979367062875744e-07     \n",
      "\u001b[2KCG iteration 50, residual = 2.1230886065411266e-07     \n",
      "\u001b[2KCG iteration 51, residual = 1.607594185237938e-07     \n",
      "\u001b[2KCG iteration 52, residual = 1.3749692008778647e-07     \n",
      "\u001b[2KCG iteration 53, residual = 1.1830410039060276e-07     \n",
      "\u001b[2KCG iteration 54, residual = 1.1391925970772033e-07     \n",
      "\u001b[2KCG iteration 55, residual = 1.0199747061315374e-07     \n",
      "\u001b[2KCG iteration 56, residual = 8.763971521047054e-08     \n",
      "\u001b[2KCG iteration 57, residual = 6.792696275173379e-08     \n",
      "\u001b[2KCG iteration 58, residual = 5.323520668679368e-08     \n",
      "\u001b[2KCG iteration 59, residual = 4.4949176438183945e-08     \n",
      "\u001b[2KCG iteration 60, residual = 3.562901075175216e-08     \n",
      "\u001b[2KCG iteration 61, residual = 2.485013844592992e-08     \n",
      "\u001b[2KCG iteration 62, residual = 1.3960502090175935e-08     \n",
      "\u001b[2KCG iteration 63, residual = 8.698766277040349e-09     \n",
      "\u001b[2KCG iteration 64, residual = 5.486320694793486e-09     \n",
      "\u001b[2KCG iteration 65, residual = 3.6800537792791086e-09     \n",
      "\u001b[2KCG iteration 66, residual = 2.534619617156368e-09     \n",
      "\u001b[2KCG iteration 67, residual = 1.8000011326127451e-09     \n",
      "\u001b[2KCG iteration 68, residual = 1.3245824090980803e-09     \n",
      "\u001b[2KCG iteration 69, residual = 8.987512554429154e-10     \n",
      "\u001b[2KCG iteration 70, residual = 6.40318226943399e-10     \n",
      "\u001b[2KCG iteration 71, residual = 5.39465384356906e-10     \n",
      "\u001b[2KCG iteration 72, residual = 4.4568023711982224e-10     \n",
      "\n",
      "time AMG setup = 27.854322044041872 sec\n",
      "    set up  3949.512748005716 DOFS/sec\n",
      "time solve = 1.963369622205589 sec\n",
      "    solved  56031.73175126191 DOFS/sec\n"
     ]
    },
    {
     "data": {
      "text/plain": [
       "261.8738672929803"
      ]
     },
     "execution_count": 42,
     "metadata": {},
     "output_type": "execute_result"
    }
   ],
   "source": [
    "from usrMtgStuff import setupElastBeam, testAndSolve\n",
    "\n",
    "V, a, f, u = setupElastBeam(N=10, aRatio=1000, dim=2)\n",
    "\n",
    "c = Preconditioner(a, f\"NgsAMG.elast_{V.mesh.dim}d\", ngs_amg_crs_alg=\"spw\", ngs_amg_sm_type=\"bgs\", ngs_amg_sp_improve_its=2, ngs_amg_sp_omega=0.8)\n",
    "# c = Preconditioner(a, f\"NgsAMG.elast_{V.mesh.dim}d\", ngs_amg_crs_alg=\"mis\", ngs_amg_on_dofs=\"select\", ngs_amg_subset= \"nodalp2\", ngs_amg_sm_type=\"bgs\")\n",
    "# c = Preconditioner(a, f\"NgsAMG.elast_{V.mesh.dim}d\", ngs_amg_crs_alg=\"mis\", ngs_amg_lo = False, ngs_amg_dof_ordering=\"p2Emb\", ngs_amg_smooth_after_emb=False, ngs_amg_sp_improve_its=0, ngs_amg_sm_type=\"bgs\")\n",
    "\n",
    "a.Assemble()\n",
    "f.Assemble()\n",
    "\n",
    "testAndSolve(a.mat, c, u, f.vec)"
   ]
  },
  {
   "cell_type": "raw",
   "id": "e7ff5dc0-bfef-43d2-b65e-aa51a3eafb3a",
   "metadata": {},
   "source": []
  },
  {
   "cell_type": "code",
   "execution_count": 21,
   "id": "42568ca7-7b8c-4a1b-bd58-2f7ec953d51a",
   "metadata": {},
   "outputs": [
    {
     "name": "stderr",
     "output_type": "stream",
     "text": [
      "WARNING: kwarg 'nodalp2' is an undocumented flags option for class <class 'ngsolve.comp.H1'>, maybe there is a typo?\n"
     ]
    },
    {
     "name": "stdout",
     "output_type": "stream",
     "text": [
      " height = 18081\n",
      "Set up AMG-levels...\n",
      " Found 0 isolated vertices, keeping them out of next level!\n",
      " map maps 2541 -> 169, fac 0.0665092\n",
      " Found 0 isolated vertices, keeping them out of next level!\n",
      " map maps 169 -> 15, fac 0.0887574\n",
      "Done setting up AMG-levels!\n",
      "\n",
      " ---------- AMG Summary ---------- \n",
      "Vertex complexity: 1.07241\n",
      "Operator complexity: 1.03241\n",
      "Vertex complexity components: 1 0.0665092 0.00590319 \n",
      "Operator complexity components: 1 0.0307953 0.00161383 \n",
      "# vertices 2541 169 15 \n",
      "# edges: 15540 871 47 \n",
      "# procs: 1 1 1 \n",
      "NZEs:483321 3721 195 \n",
      " ---------- AMG Summary End ---------- \n",
      "\n",
      "Preconditioner test:\n",
      "   min EV = 0.24126203406141644\n",
      "   max EV = 0.99664982375962\n",
      "   condition = 4.130984917029712\n",
      "\n",
      "\n",
      "Solve...\n",
      "\u001b[2KCG iteration 1, residual = 0.00033649920020520184     \n",
      "\u001b[2KCG iteration 2, residual = 3.8584274221156384e-05     \n",
      "\u001b[2KCG iteration 3, residual = 1.6271425857774545e-05     \n",
      "\u001b[2KCG iteration 4, residual = 5.7608660133404476e-06     \n",
      "\u001b[2KCG iteration 5, residual = 1.7046575400455084e-06     \n",
      "\u001b[2KCG iteration 6, residual = 4.970395625896883e-07     \n",
      "\u001b[2KCG iteration 7, residual = 1.548180499676452e-07     \n",
      "\u001b[2KCG iteration 8, residual = 5.197960551862097e-08     \n",
      "\u001b[2KCG iteration 9, residual = 1.9673052530560683e-08     \n",
      "\u001b[2KCG iteration 10, residual = 7.709623997291794e-09     \n",
      "\u001b[2KCG iteration 11, residual = 2.6455882126860815e-09     \n",
      "\u001b[2KCG iteration 12, residual = 8.955562319067373e-10     \n",
      "\u001b[2KCG iteration 13, residual = 2.428416368537323e-10     \n",
      "\n",
      "time AMG setup = 20.035455821696406 sec\n",
      "    set up  902.4501444294607 DOFS/sec\n",
      "time solve = 0.09491402308559455 sec\n",
      "    solved  190498.7209708132 DOFS/sec\n",
      "\n",
      "\n",
      "\ty-defo = 0.038265114765013264 !\n"
     ]
    }
   ],
   "source": [
    "from usrMtgStuff import setupElastBeam, testAndSolve\n",
    "\n",
    "V, a, f, u = setupElastBeam(N=10, elStretch=5, dim=3, order=2, nodalP2=True)\n",
    "\n",
    "# c = Preconditioner(a, f\"NgsAMG.elast_{V.mesh.dim}d\", ngs_amg_crs_alg=\"mis\")\n",
    "# c = Preconditioner(a, f\"NgsAMG.elast_{V.mesh.dim}d\", ngs_amg_crs_alg=\"mis\", ngs_amg_on_dofs=\"select\", ngs_amg_subset= \"nodalp2\", ngs_amg_sm_type=\"bgs\")\n",
    "c = Preconditioner(a, f\"NgsAMG.elast_{V.mesh.dim}d\", ngs_amg_crs_alg=\"mis\", ngs_amg_lo = False, ngs_amg_dof_ordering=\"p2Emb\", ngs_amg_smooth_after_emb=False, ngs_amg_sp_improve_its=0, ngs_amg_sm_type=\"bgs\")\n",
    "\n",
    "a.Assemble()\n",
    "f.Assemble()\n",
    "\n",
    "testAndSolve(a.mat, c, u.vec, f.vec)\n",
    "\n",
    "print(f\"\\n\\n\\ty-defo = {u(1.0,0.0)[1]} !\")"
   ]
  },
  {
   "cell_type": "markdown",
   "id": "dcc3913a-f537-48bf-b4f6-d6a08a8a9da7",
   "metadata": {},
   "source": [
    "### HDiv\n",
    "\n",
    "Coarsens dual graph, maintains \"loops\" (i.e. vertices/edges in 2d/3d), robust in $\\left<\\nabla\\cdot,\\nabla\\cdot\\right>$ penalty parameter"
   ]
  },
  {
   "cell_type": "code",
   "execution_count": 43,
   "id": "705656a9-53af-4c77-87e7-bbb7b57ba93a",
   "metadata": {},
   "outputs": [],
   "source": [
    "def StokesHDGDiscretization(mesh, order, inlet, wall, outlet, hodivfree, proj_jumps, div_div_pen, with_pressure, V, Vhat, nu, diri, elint = ('', '', '', True, True, None, True, None, None, 1, 'wall|inlet', False)):\n",
    "    V1 = HDiv(mesh, order, diri, hodivfree, False, **('order', 'dirichlet', 'hodivfree', 'RT'))\n",
    "    V2 = TangentialFacetFESpace(mesh, order, diri, proj_jumps, **('order', 'dirichlet', 'highest_order_dc'))\n",
    "    V = V1 * V2\n",
    "    Q = L2(mesh, 0 if hodivfree else order - 1, **('order',))\n",
    "    (u, uhat) = ()\n",
    "    (v, vhat) = V.TnT()\n",
    "    (p, q) = Q.TnT()\n",
    "    n = specialcf.normal(mesh.dim)\n",
    "    h = specialcf.mesh_size\n",
    "    \n",
    "    def tang(vec = None):\n",
    "        return vec - vec * n * n\n",
    "\n",
    "    alpha = 4\n",
    "    dS = dx(True, **('element_boundary',))\n",
    "    a = BilinearForm(V, elint, **('eliminate_internal',))\n",
    "    a += nu * InnerProduct(Grad(u), Grad(v)) * dx\n",
    "    a += nu * InnerProduct(Grad(u) * n, tang(vhat - v)) * dS\n",
    "    a += nu * InnerProduct(Grad(v) * n, tang(uhat - u)) * dS\n",
    "    a += (nu * alpha * order * order / h) * InnerProduct(tang(vhat - v), tang(uhat - u)) * dS\n",
    "    if div_div_pen is not None:\n",
    "        aPen = BilinearForm(V, elint, **('eliminate_internal',))\n",
    "        aPen += nu * InnerProduct(Grad(u), Grad(v)) * dx\n",
    "        aPen += nu * InnerProduct(Grad(u) * n, tang(vhat - v)) * dS\n",
    "        aPen += nu * InnerProduct(Grad(v) * n, tang(uhat - u)) * dS\n",
    "        aPen += (nu * alpha * order * order / h) * InnerProduct(tang(vhat - v), tang(uhat - u)) * dS\n",
    "        aPen += div_div_pen * nu * InnerProduct(div(u), div(v)) * dx\n",
    "    else:\n",
    "        aPen = a\n",
    "    b = BilinearForm(V, Q, **('trialspace', 'testspace'))\n",
    "    b += -div(u) * q * dx\n",
    "    return (V, Q, a, b, aPen)"
   ]
  },
  {
   "cell_type": "code",
   "execution_count": 47,
   "id": "d3e86750-3f11-46c9-9fd9-96bdfd468265",
   "metadata": {},
   "outputs": [
    {
     "ename": "ImportError",
     "evalue": "cannot import name 'GetValve' from 'usrMtgStuff' (/home/lukask/src/presentations/usrMtg2025/usrMtgStuff.py)",
     "output_type": "error",
     "traceback": [
      "\u001b[0;31m---------------------------------------------------------------------------\u001b[0m",
      "\u001b[0;31mImportError\u001b[0m                               Traceback (most recent call last)",
      "Cell \u001b[0;32mIn[47], line 1\u001b[0m\n\u001b[0;32m----> 1\u001b[0m \u001b[38;5;28;01mfrom\u001b[39;00m \u001b[38;5;21;01musrMtgStuff\u001b[39;00m \u001b[38;5;28;01mimport\u001b[39;00m GetValve\n\u001b[1;32m      3\u001b[0m dim \u001b[38;5;241m=\u001b[39m \u001b[38;5;241m2\u001b[39m\n\u001b[1;32m      5\u001b[0m valve \u001b[38;5;241m=\u001b[39m GetValve(\u001b[38;5;241m1\u001b[39m, dim, \u001b[38;5;241m0.5\u001b[39m, \u001b[38;5;241m25\u001b[39m, \u001b[38;5;241m1\u001b[39m, \u001b[38;5;241m180\u001b[39m, \u001b[38;5;241m6.4\u001b[39m, \u001b[38;5;241m7\u001b[39m, \u001b[38;5;241m5\u001b[39m, \u001b[38;5;28;01mTrue\u001b[39;00m, \u001b[38;5;241m*\u001b[39m\u001b[38;5;241m*\u001b[39m(\u001b[38;5;124m'\u001b[39m\u001b[38;5;124mN\u001b[39m\u001b[38;5;124m'\u001b[39m, \u001b[38;5;124m'\u001b[39m\u001b[38;5;124mdim\u001b[39m\u001b[38;5;124m'\u001b[39m, \u001b[38;5;124m'\u001b[39m\u001b[38;5;124mR\u001b[39m\u001b[38;5;124m'\u001b[39m, \u001b[38;5;124m'\u001b[39m\u001b[38;5;124malpha\u001b[39m\u001b[38;5;124m'\u001b[39m, \u001b[38;5;124m'\u001b[39m\u001b[38;5;124mWinlet\u001b[39m\u001b[38;5;124m'\u001b[39m, \u001b[38;5;124m'\u001b[39m\u001b[38;5;124mbeta\u001b[39m\u001b[38;5;124m'\u001b[39m, \u001b[38;5;124m'\u001b[39m\u001b[38;5;124mL1\u001b[39m\u001b[38;5;124m'\u001b[39m, \u001b[38;5;124m'\u001b[39m\u001b[38;5;124mL2\u001b[39m\u001b[38;5;124m'\u001b[39m, \u001b[38;5;124m'\u001b[39m\u001b[38;5;124mLinlet\u001b[39m\u001b[38;5;124m'\u001b[39m, \u001b[38;5;124m'\u001b[39m\u001b[38;5;124mclosevalve\u001b[39m\u001b[38;5;124m'\u001b[39m))\n",
      "\u001b[0;31mImportError\u001b[0m: cannot import name 'GetValve' from 'usrMtgStuff' (/home/lukask/src/presentations/usrMtg2025/usrMtgStuff.py)"
     ]
    }
   ],
   "source": [
    "from usrMtgStuff import GetValve\n",
    "\n",
    "dim = 2\n",
    "\n",
    "valve = GetValve(1, dim, 0.5, 25, 1, 180, 6.4, 7, 5, True, **('N', 'dim', 'R', 'alpha', 'Winlet', 'beta', 'L1', 'L2', 'Linlet', 'closevalve'))\n",
    "mesh = Mesh(OCCGeometry(valve, dim, **('dim',)).GenerateMesh(0.5, **('maxh',)))\n",
    "mesh.Curve(3)\n",
    "diri = 'wall'\n",
    "outlet = None\n",
    "uin = None\n",
    "f_vol = CF((1, 0))\n",
    "\n",
    "(V, Q, a, b, aPen) = StokesHDGDiscretization(mesh, order=order, diri=diri, nu=nu, div_div_pen=div_div_pen)\n",
    "\n",
    "amg_cl = NgsAMG.stokes_hdiv_gg_2d if mesh.ngmesh.dim == 2 else NgsAMG.stokes_hdiv_gg_3d\n",
    "\n",
    "pc_opts = {\n",
    "    'ngs_amg_max_levels': 40,\n",
    "    'ngs_amg_max_coarse_size': 1,\n",
    "    'ngs_amg_clev': 'inv',\n",
    "    'ngs_amg_log_level': 'extra',\n",
    "    'ngs_amg_log_level_pc': 'extra',\n",
    "    'ngs_amg_do_test': True,\n",
    "    'ngs_amg_mg_cycle': 'V',\n",
    "    'presVecs': 'P1',\n",
    "    \"ngs_amg_pres_vecs\": [\"RTZ\", \"P0\", \"P1\"][0]\n",
    "}\n",
    "\n"
   ]
  },
  {
   "cell_type": "markdown",
   "id": "6e3d9af6-9a0f-4672-93ce-6fdf4945e103",
   "metadata": {},
   "source": [
    "### Smoothers\n",
    "\n",
    "Various Gauss-Seidel-type MPI-parallel, multiplicative smoothers that overlap MPI and communication:\n",
    "* Regular Gauss-Seidel\n",
    "* Block-Gauss-Seidel\n",
    "* Hybrid-Block-Gauss-Seidel (quite fast for high-order FEM matrices)\n",
    "\n",
    "Limitation for Block-smoothers in parallel:\n",
    " * Blocks may not cross MPI subdomain boundaries\n",
    " * Each DOF is owned by the master rank, it will only be included in blocks on that rank\n",
    "\n",
    "Some examples:\n",
    " * Works: blocks of all cell/face/edge/vertex-DOFs\n",
    " * Does not work: face/edge-patch, facet-plus-cells\n",
    " * Does not work as expected: element, i.e. cell-plus-face-plus-edge-plus-vertex; Master of each DOF will own it, no update from other ranks!\n",
    " "
   ]
  },
  {
   "cell_type": "code",
   "execution_count": null,
   "id": "afc02ac6-8c22-4a4a-8f72-6fc392dde7f3",
   "metadata": {},
   "outputs": [],
   "source": []
  },
  {
   "cell_type": "code",
   "execution_count": null,
   "id": "18a77932-8de5-423e-bebe-116cc16599ba",
   "metadata": {},
   "outputs": [],
   "source": []
  }
 ],
 "metadata": {
  "kernelspec": {
   "display_name": "Python 3 (ipykernel)",
   "language": "python",
   "name": "python3"
  },
  "language_info": {
   "codemirror_mode": {
    "name": "ipython",
    "version": 3
   },
   "file_extension": ".py",
   "mimetype": "text/x-python",
   "name": "python",
   "nbconvert_exporter": "python",
   "pygments_lexer": "ipython3",
   "version": "3.10.12"
  }
 },
 "nbformat": 4,
 "nbformat_minor": 5
}
